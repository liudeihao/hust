{
 "cells": [
  {
   "cell_type": "code",
   "id": "initial_id",
   "metadata": {
    "collapsed": true,
    "ExecuteTime": {
     "end_time": "2024-10-04T04:14:17.481472Z",
     "start_time": "2024-10-04T04:14:16.348044Z"
    }
   },
   "source": [
    "from time import sleep\n",
    "\n",
    "import gym\n",
    "\n",
    "env = gym.make('CartPole-v0')\n",
    "state = env.reset()\n",
    "\n",
    "for t in range(1000):\n",
    "    env.render()\n",
    "    print(state)\n",
    "    sleep(0.05)\n",
    "\n",
    "    action = env.action_space.sample()\n",
    "    state, reward, done, info = env.step(action)\n",
    "\n",
    "    if done:\n",
    "        print(\"Episode finished after {} timesteps\".format(t+1))\n",
    "        break\n"
   ],
   "outputs": [
    {
     "name": "stdout",
     "output_type": "stream",
     "text": [
      "[-0.00416378 -0.01582576  0.00082783 -0.02522255]\n",
      "[-0.0044803   0.17928431  0.00032338 -0.31764417]\n",
      "[-0.00089461 -0.01584224 -0.00602951 -0.02485928]\n",
      "[-0.00121146  0.17936565 -0.00652669 -0.31943847]\n",
      "[ 0.00237586  0.37457995 -0.01291546 -0.6141725 ]\n",
      "[ 0.00986746  0.56987997 -0.02519891 -0.91089514]\n",
      "[ 0.02126505  0.3751079  -0.04341681 -0.6262375 ]\n",
      "[ 0.02876721  0.57080815 -0.05594156 -0.93227177]\n",
      "[ 0.04018338  0.76663851 -0.074587   -1.24199604]\n",
      "[ 0.05551615  0.9626344  -0.09942692 -1.55708073]\n",
      "[ 0.07476883  1.15879668 -0.13056854 -1.87905432]\n",
      "[ 0.09794477  1.35507801 -0.16814962 -2.20924838]\n",
      "Episode finished after 12 timesteps\n"
     ]
    }
   ],
   "execution_count": 1
  },
  {
   "metadata": {},
   "cell_type": "code",
   "outputs": [],
   "execution_count": null,
   "source": "",
   "id": "ed431ac1d0d72161"
  }
 ],
 "metadata": {
  "kernelspec": {
   "display_name": "Python 3",
   "language": "python",
   "name": "python3"
  },
  "language_info": {
   "codemirror_mode": {
    "name": "ipython",
    "version": 2
   },
   "file_extension": ".py",
   "mimetype": "text/x-python",
   "name": "python",
   "nbconvert_exporter": "python",
   "pygments_lexer": "ipython2",
   "version": "2.7.6"
  }
 },
 "nbformat": 4,
 "nbformat_minor": 5
}
