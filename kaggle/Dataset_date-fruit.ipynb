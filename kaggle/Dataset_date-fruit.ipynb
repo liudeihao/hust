{
 "cells": [
  {
   "cell_type": "code",
   "id": "initial_id",
   "metadata": {
    "collapsed": true,
    "ExecuteTime": {
     "end_time": "2024-10-09T11:53:20.580269Z",
     "start_time": "2024-10-09T11:53:19.879618Z"
    }
   },
   "source": [
    "import kagglehub\n",
    "from numpy import integer\n",
    "\n",
    "# Download latest version\n",
    "path = kagglehub.dataset_download(\"muratkokludataset/date-fruit-datasets\")\n",
    "\n",
    "print(\"Path to dataset files:\", path)"
   ],
   "outputs": [
    {
     "name": "stdout",
     "output_type": "stream",
     "text": [
      "Path to dataset files: C:\\Users\\liude\\.cache\\kagglehub\\datasets\\muratkokludataset\\date-fruit-datasets\\versions\\1\n"
     ]
    }
   ],
   "execution_count": 172
  },
  {
   "metadata": {
    "ExecuteTime": {
     "end_time": "2024-10-09T11:53:20.596049Z",
     "start_time": "2024-10-09T11:53:20.591782Z"
    }
   },
   "cell_type": "code",
   "source": [
    "import os\n",
    "print(os.listdir(path+'/Date_Fruit_Datasets'))\n",
    "data_path = path + '/Date_Fruit_Datasets/Date_Fruit_Datasets.xlsx' "
   ],
   "id": "e230a341d2d7524d",
   "outputs": [
    {
     "name": "stdout",
     "output_type": "stream",
     "text": [
      "['Date_Fruit_Datasets.arff', 'Date_Fruit_Datasets.xlsx', 'Date_Fruit_Datasets_Citation_Request.txt']\n"
     ]
    }
   ],
   "execution_count": 173
  },
  {
   "metadata": {
    "ExecuteTime": {
     "end_time": "2024-10-09T11:53:23.483223Z",
     "start_time": "2024-10-09T11:53:20.696443Z"
    }
   },
   "cell_type": "code",
   "source": "!pip install openpyxl",
   "id": "c5d925554396c22f",
   "outputs": [
    {
     "name": "stdout",
     "output_type": "stream",
     "text": [
      "Looking in indexes: https://pypi.tuna.tsinghua.edu.cn/simple\n",
      "Requirement already satisfied: openpyxl in c:\\users\\liude\\.conda\\envs\\torch22cu121\\lib\\site-packages (3.1.5)\n",
      "Requirement already satisfied: et-xmlfile in c:\\users\\liude\\.conda\\envs\\torch22cu121\\lib\\site-packages (from openpyxl) (1.1.0)\n"
     ]
    }
   ],
   "execution_count": 174
  },
  {
   "metadata": {
    "ExecuteTime": {
     "end_time": "2024-10-09T11:53:23.558725Z",
     "start_time": "2024-10-09T11:53:23.554428Z"
    }
   },
   "cell_type": "code",
   "source": [
    "import pandas as pd\n",
    "import torch\n",
    "import torch.nn as nn\n",
    "import torch.nn.functional as F\n",
    "from torch.utils.data import DataLoader, Dataset, random_split\n",
    "from sklearn.preprocessing import LabelEncoder\n",
    "\n",
    "if torch.cuda.is_available():\n",
    "    device = torch.device('cuda:0')\n",
    "    print('GPU available')\n",
    "else:\n",
    "    device = torch.device('cpu')\n",
    "    print('CPU available')"
   ],
   "id": "d3b52f6b44cb463f",
   "outputs": [
    {
     "name": "stdout",
     "output_type": "stream",
     "text": [
      "GPU available\n"
     ]
    }
   ],
   "execution_count": 175
  },
  {
   "metadata": {
    "ExecuteTime": {
     "end_time": "2024-10-09T11:53:23.635460Z",
     "start_time": "2024-10-09T11:53:23.633036Z"
    }
   },
   "cell_type": "code",
   "source": "",
   "id": "daa4cec360f6c837",
   "outputs": [],
   "execution_count": null
  },
  {
   "metadata": {
    "ExecuteTime": {
     "end_time": "2024-10-09T11:53:23.967941Z",
     "start_time": "2024-10-09T11:53:23.712834Z"
    }
   },
   "cell_type": "code",
   "source": [
    "features = pd.read_excel(data_path)\n",
    "\n",
    "classes = features.pop('Class')"
   ],
   "id": "b925ca455e4e948e",
   "outputs": [],
   "execution_count": 176
  },
  {
   "metadata": {
    "ExecuteTime": {
     "end_time": "2024-10-09T11:53:24.053011Z",
     "start_time": "2024-10-09T11:53:24.039910Z"
    }
   },
   "cell_type": "code",
   "source": [
    "feature_tensors = [torch.tensor(row, dtype=torch.float32) for row in features.values]\n",
    "feature_tensors = torch.stack(feature_tensors)\n",
    "\n",
    "mean = torch.mean(feature_tensors, dim=0)\n",
    "std = torch.std(feature_tensors, dim=0)\n",
    "\n",
    "feature_tensors = (feature_tensors - mean) / std\n",
    "feature_tensors.shape"
   ],
   "id": "7a766831cd4dae07",
   "outputs": [
    {
     "data": {
      "text/plain": [
       "torch.Size([898, 34])"
      ]
     },
     "execution_count": 177,
     "metadata": {},
     "output_type": "execute_result"
    }
   ],
   "execution_count": 177
  },
  {
   "metadata": {
    "ExecuteTime": {
     "end_time": "2024-10-09T11:54:17.888785Z",
     "start_time": "2024-10-09T11:54:17.884301Z"
    }
   },
   "cell_type": "code",
   "source": [
    "label_encoder = LabelEncoder()\n",
    "labels = label_encoder.fit_transform(classes)\n",
    "tensor_labels = torch.tensor(labels, dtype=torch.long)\n",
    "tensor_labels.shape"
   ],
   "id": "9eafb12e67df6bda",
   "outputs": [
    {
     "data": {
      "text/plain": [
       "torch.Size([898])"
      ]
     },
     "execution_count": 186,
     "metadata": {},
     "output_type": "execute_result"
    }
   ],
   "execution_count": 186
  },
  {
   "metadata": {
    "ExecuteTime": {
     "end_time": "2024-10-09T11:54:20.440576Z",
     "start_time": "2024-10-09T11:54:20.437253Z"
    }
   },
   "cell_type": "code",
   "source": [
    "class FruitDataset(Dataset):\n",
    "    def __init__(self, feature, labels):\n",
    "        self.features = feature\n",
    "        self.labels = labels\n",
    "\n",
    "    def __len__(self):\n",
    "        return len(self.labels)\n",
    "\n",
    "    def __getitem__(self, idx):\n",
    "        return self.features[idx], self.labels[idx]"
   ],
   "id": "1d41d6019a989595",
   "outputs": [],
   "execution_count": 187
  },
  {
   "metadata": {
    "ExecuteTime": {
     "end_time": "2024-10-09T11:54:21.228071Z",
     "start_time": "2024-10-09T11:54:21.224541Z"
    }
   },
   "cell_type": "code",
   "source": [
    "dataset = FruitDataset(feature_tensors, tensor_labels)\n",
    "\n",
    "train_size = int(0.8 * len(dataset))\n",
    "val_size = len(dataset) - train_size\n",
    "train_dataset, val_dataset = random_split(dataset, [train_size, val_size])\n",
    "\n",
    "\n",
    "train_loader = DataLoader(train_dataset, batch_size=32, shuffle=True)\n",
    "val_loader = DataLoader(val_dataset, batch_size=32, shuffle=False)"
   ],
   "id": "4cea12346d6465",
   "outputs": [],
   "execution_count": 188
  },
  {
   "metadata": {
    "ExecuteTime": {
     "end_time": "2024-10-09T11:54:21.963293Z",
     "start_time": "2024-10-09T11:54:21.958294Z"
    }
   },
   "cell_type": "code",
   "source": [
    "class Model(nn.Module):\n",
    "    def __init__(self):\n",
    "        super().__init__()\n",
    "        self.fc1 = nn.Linear(34, 128)\n",
    "        self.fc2 = nn.Linear(128, 64)\n",
    "        self.dropout2 = nn.Dropout(0.5)\n",
    "        self.fc3 = nn.Linear(64, 7)\n",
    "        # 在训练神经网络时，通常不需要在模型中直接包含Softmax层，尤其是在使用损失函数如categorical_crossentropy时。\n",
    "        # 这是因为这些损失函数内部已经实现了Softmax操作。\n",
    "\n",
    "    def forward(self, x):\n",
    "        x = F.relu(self.fc1(x))\n",
    "        x = F.relu(self.fc2(x))\n",
    "        x = self.dropout2(x)\n",
    "        x = self.fc3(x)\n",
    "        return x\n",
    "\n",
    "\n",
    "model = Model().to(device)"
   ],
   "id": "7ea074cd083d48a3",
   "outputs": [],
   "execution_count": 189
  },
  {
   "metadata": {
    "ExecuteTime": {
     "end_time": "2024-10-09T11:54:23.401309Z",
     "start_time": "2024-10-09T11:54:23.397423Z"
    }
   },
   "cell_type": "code",
   "source": [
    "criterion = torch.nn.CrossEntropyLoss()\n",
    "optimizer = torch.optim.Adam(model.parameters(), lr=0.01, weight_decay=1e-5)"
   ],
   "id": "95e53f68d5e66e70",
   "outputs": [],
   "execution_count": 190
  },
  {
   "metadata": {
    "ExecuteTime": {
     "end_time": "2024-10-09T11:54:25.314136Z",
     "start_time": "2024-10-09T11:54:23.851986Z"
    }
   },
   "cell_type": "code",
   "source": [
    "num_epochs = 100\n",
    "patience = 10\n",
    "best_val_loss = float('inf')\n",
    "patience_counter = 0\n",
    "\n",
    "for epoch in range(num_epochs):\n",
    "    model.train()\n",
    "    total_loss = 0\n",
    "    for batch_features, batch_labels in train_loader:\n",
    "        batch_features, batch_labels = batch_features.to(device), batch_labels.to(device)\n",
    "        \n",
    "        optimizer.zero_grad()\n",
    "        batch_output = model(batch_features)\n",
    "        loss = criterion(batch_output, batch_labels)\n",
    "        loss.backward()\n",
    "        optimizer.step()\n",
    "        \n",
    "        total_loss += loss.item()\n",
    "        \n",
    "    train_loss = total_loss / len(train_loader)\n",
    "    print(f\"Epoch {epoch+1}/{num_epochs}, Training Loss: {train_loss:.4f}\")\n",
    "    \n",
    "    model.eval()\n",
    "    total_val_loss = 0\n",
    "    with torch.no_grad():\n",
    "        for batch_features, batch_labels in val_loader:\n",
    "            batch_features, batch_labels = batch_features.to(device), batch_labels.to(device)\n",
    "            batch_output = model(batch_features)\n",
    "            loss = criterion(batch_output, batch_labels)\n",
    "            total_val_loss += loss.item()\n",
    "    val_loss = total_val_loss / len(val_loader)\n",
    "    print(f\"Epoch {epoch+1}/{num_epochs}, Validation Loss: {val_loss:.4f}\")\n",
    "    \n",
    "    if val_loss < best_val_loss:\n",
    "        best_val_loss = val_loss\n",
    "        patience_counter = 0\n",
    "        torch.save(model.state_dict(), \"best_model.pth\")\n",
    "    else:\n",
    "        patience_counter += 1\n",
    "        \n",
    "    if patience_counter >= patience:\n",
    "        print(\"Early stopping\")\n",
    "        break\n",
    "        "
   ],
   "id": "c699fbd4e7104283",
   "outputs": [
    {
     "name": "stdout",
     "output_type": "stream",
     "text": [
      "Epoch 1/100, Training Loss: 0.8792\n",
      "Epoch 1/100, Validation Loss: 0.3672\n",
      "Epoch 2/100, Training Loss: 0.5590\n",
      "Epoch 2/100, Validation Loss: 0.3132\n",
      "Epoch 3/100, Training Loss: 0.4347\n",
      "Epoch 3/100, Validation Loss: 0.2485\n",
      "Epoch 4/100, Training Loss: 0.3929\n",
      "Epoch 4/100, Validation Loss: 0.2365\n",
      "Epoch 5/100, Training Loss: 0.2982\n",
      "Epoch 5/100, Validation Loss: 0.2256\n",
      "Epoch 6/100, Training Loss: 0.3013\n",
      "Epoch 6/100, Validation Loss: 0.2249\n",
      "Epoch 7/100, Training Loss: 0.2811\n",
      "Epoch 7/100, Validation Loss: 0.2086\n",
      "Epoch 8/100, Training Loss: 0.2870\n",
      "Epoch 8/100, Validation Loss: 0.2510\n",
      "Epoch 9/100, Training Loss: 0.2543\n",
      "Epoch 9/100, Validation Loss: 0.2153\n",
      "Epoch 10/100, Training Loss: 0.2638\n",
      "Epoch 10/100, Validation Loss: 0.2829\n",
      "Epoch 11/100, Training Loss: 0.2686\n",
      "Epoch 11/100, Validation Loss: 0.2053\n",
      "Epoch 12/100, Training Loss: 0.2179\n",
      "Epoch 12/100, Validation Loss: 0.1829\n",
      "Epoch 13/100, Training Loss: 0.2062\n",
      "Epoch 13/100, Validation Loss: 0.1998\n",
      "Epoch 14/100, Training Loss: 0.1854\n",
      "Epoch 14/100, Validation Loss: 0.2253\n",
      "Epoch 15/100, Training Loss: 0.2216\n",
      "Epoch 15/100, Validation Loss: 0.2828\n",
      "Epoch 16/100, Training Loss: 0.2177\n",
      "Epoch 16/100, Validation Loss: 0.3175\n",
      "Epoch 17/100, Training Loss: 0.1861\n",
      "Epoch 17/100, Validation Loss: 0.2073\n",
      "Epoch 18/100, Training Loss: 0.1592\n",
      "Epoch 18/100, Validation Loss: 0.2769\n",
      "Epoch 19/100, Training Loss: 0.1973\n",
      "Epoch 19/100, Validation Loss: 0.2711\n",
      "Epoch 20/100, Training Loss: 0.2037\n",
      "Epoch 20/100, Validation Loss: 0.1916\n",
      "Epoch 21/100, Training Loss: 0.2038\n",
      "Epoch 21/100, Validation Loss: 0.1698\n",
      "Epoch 22/100, Training Loss: 0.1372\n",
      "Epoch 22/100, Validation Loss: 0.2321\n",
      "Epoch 23/100, Training Loss: 0.1417\n",
      "Epoch 23/100, Validation Loss: 0.3355\n",
      "Epoch 24/100, Training Loss: 0.1806\n",
      "Epoch 24/100, Validation Loss: 0.2110\n",
      "Epoch 25/100, Training Loss: 0.1661\n",
      "Epoch 25/100, Validation Loss: 0.2306\n",
      "Epoch 26/100, Training Loss: 0.1434\n",
      "Epoch 26/100, Validation Loss: 0.3099\n",
      "Epoch 27/100, Training Loss: 0.1773\n",
      "Epoch 27/100, Validation Loss: 0.2248\n",
      "Epoch 28/100, Training Loss: 0.1424\n",
      "Epoch 28/100, Validation Loss: 0.2451\n",
      "Epoch 29/100, Training Loss: 0.1043\n",
      "Epoch 29/100, Validation Loss: 0.2617\n",
      "Epoch 30/100, Training Loss: 0.1053\n",
      "Epoch 30/100, Validation Loss: 0.2183\n",
      "Epoch 31/100, Training Loss: 0.1612\n",
      "Epoch 31/100, Validation Loss: 0.2119\n",
      "Early stopping\n"
     ]
    }
   ],
   "execution_count": 191
  },
  {
   "metadata": {
    "ExecuteTime": {
     "end_time": "2024-10-09T12:03:45.519978Z",
     "start_time": "2024-10-09T12:03:45.116767Z"
    }
   },
   "cell_type": "code",
   "source": [
    "correct = 0\n",
    "for idx, feature in enumerate(feature_tensors):\n",
    "    tensor = feature.unsqueeze(0).to(device)\n",
    "    model.eval()\n",
    "    with torch.no_grad():\n",
    "        output = model(tensor)\n",
    "        probabilities = F.softmax(output, dim=1)\n",
    "        predicted_class = torch.argmax(probabilities, dim=1)\n",
    "    if predicted_class == tensor_labels[idx]:\n",
    "        correct += 1\n",
    "print(f\"Accuracy: {100 * (correct/len(tensor_labels))}%\")\n"
   ],
   "id": "b4deaf33db92e461",
   "outputs": [
    {
     "name": "stdout",
     "output_type": "stream",
     "text": [
      "Accuracy: 96.99331848552339%\n"
     ]
    }
   ],
   "execution_count": 202
  },
  {
   "metadata": {
    "ExecuteTime": {
     "end_time": "2024-10-09T12:02:13.280876Z",
     "start_time": "2024-10-09T12:02:13.274163Z"
    }
   },
   "cell_type": "code",
   "source": [
    "# 保存Model\n",
    "torch.save(model.state_dict(), \"models/date_fruit_best_model.pth\")\n"
   ],
   "id": "71312c84e686d091",
   "outputs": [],
   "execution_count": 195
  },
  {
   "metadata": {
    "ExecuteTime": {
     "end_time": "2024-10-09T12:03:43.351405Z",
     "start_time": "2024-10-09T12:03:43.342114Z"
    }
   },
   "cell_type": "code",
   "source": [
    "model = Model().to(device)  # Model 是你定义的模型类的名称\n",
    "model.load_state_dict(torch.load(\"models/date_fruit_best_model.pth\"))\n",
    "model.eval()  # 设置为评估模式，这对于使用BatchNorm和Dropout层是必要的\n"
   ],
   "id": "3f9005cd3751563f",
   "outputs": [
    {
     "data": {
      "text/plain": [
       "Model(\n",
       "  (fc1): Linear(in_features=34, out_features=128, bias=True)\n",
       "  (fc2): Linear(in_features=128, out_features=64, bias=True)\n",
       "  (dropout2): Dropout(p=0.5, inplace=False)\n",
       "  (fc3): Linear(in_features=64, out_features=7, bias=True)\n",
       ")"
      ]
     },
     "execution_count": 201,
     "metadata": {},
     "output_type": "execute_result"
    }
   ],
   "execution_count": 201
  },
  {
   "metadata": {},
   "cell_type": "markdown",
   "source": "",
   "id": "ae80147c63cc23c3"
  }
 ],
 "metadata": {
  "kernelspec": {
   "display_name": "Python 3",
   "language": "python",
   "name": "python3"
  },
  "language_info": {
   "codemirror_mode": {
    "name": "ipython",
    "version": 2
   },
   "file_extension": ".py",
   "mimetype": "text/x-python",
   "name": "python",
   "nbconvert_exporter": "python",
   "pygments_lexer": "ipython2",
   "version": "2.7.6"
  }
 },
 "nbformat": 4,
 "nbformat_minor": 5
}
