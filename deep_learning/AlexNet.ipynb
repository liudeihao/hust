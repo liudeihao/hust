{
 "cells": [
  {
   "cell_type": "code",
   "id": "initial_id",
   "metadata": {
    "collapsed": true,
    "ExecuteTime": {
     "end_time": "2024-10-14T03:42:47.814035Z",
     "start_time": "2024-10-14T03:42:44.332636Z"
    }
   },
   "source": [
    "import torch\n",
    "import torchvision.transforms as transforms\n",
    "from torchvision.datasets import FashionMNIST\n",
    "import torch.utils.data as data\n",
    "import torch.nn as nn\n",
    "import torch.nn.functional as F\n",
    "import torch.optim as optim\n",
    "import matplotlib.pyplot as plt\n",
    "\n",
    "from tqdm import tqdm"
   ],
   "outputs": [],
   "execution_count": 1
  },
  {
   "metadata": {
    "ExecuteTime": {
     "end_time": "2024-10-14T04:03:50.659987Z",
     "start_time": "2024-10-14T04:03:50.622929Z"
    }
   },
   "cell_type": "code",
   "source": [
    "# Load the MNIST dataset\n",
    "transform = transforms.Compose([\n",
    "    transforms.Resize((224, 224)),\n",
    "    transforms.ToTensor()\n",
    "])\n",
    "train_dataset = FashionMNIST(root='./data', train=True, download=True, transform=transform)\n",
    "test_dataset = FashionMNIST(root='./data', train=False, download=True, transform=transform)"
   ],
   "id": "f5c3e5efb1c30f04",
   "outputs": [],
   "execution_count": 7
  },
  {
   "metadata": {
    "ExecuteTime": {
     "end_time": "2024-10-14T04:08:22.562596Z",
     "start_time": "2024-10-14T04:08:22.299590Z"
    }
   },
   "cell_type": "code",
   "source": [
    "# Define the LeNet architecture\n",
    "net = nn.Sequential(\n",
    "    nn.Conv2d(1, 96, 11, 4), nn.ReLU(),\n",
    "    nn.MaxPool2d(3, 2),\n",
    "    nn.Conv2d(96, 256, 5, 1, 2), nn.ReLU(),\n",
    "    nn.MaxPool2d(3, 2),\n",
    "    nn.Conv2d(256, 384, 3, 1, 1), nn.ReLU(),\n",
    "    nn.Conv2d(384, 384, 3, 1, 1), nn.ReLU(),\n",
    "    nn.Conv2d(384, 256, 3, 1, 1), nn.ReLU(),\n",
    "    nn.MaxPool2d(3, 2),\n",
    "    nn.Flatten(),\n",
    "    nn.Linear(6400, 4096), nn.ReLU(),\n",
    "    nn.Linear(4096, 4096), nn.ReLU(),\n",
    "    nn.Linear(4096, 10)\n",
    "\n",
    ")\n",
    "\n",
    "\n",
    "def init_weights(m):\n",
    "    if type(m) == nn.Linear or type(m) == nn.Conv2d:\n",
    "        nn.init.xavier_uniform_(m.weight)\n",
    "\n",
    "\n",
    "net.apply(init_weights)"
   ],
   "id": "fb1194ea7ec07cba",
   "outputs": [
    {
     "data": {
      "text/plain": [
       "Sequential(\n",
       "  (0): Conv2d(1, 96, kernel_size=(11, 11), stride=(4, 4))\n",
       "  (1): ReLU()\n",
       "  (2): MaxPool2d(kernel_size=3, stride=2, padding=0, dilation=1, ceil_mode=False)\n",
       "  (3): Conv2d(96, 256, kernel_size=(5, 5), stride=(1, 1), padding=(2, 2))\n",
       "  (4): ReLU()\n",
       "  (5): MaxPool2d(kernel_size=3, stride=2, padding=0, dilation=1, ceil_mode=False)\n",
       "  (6): Conv2d(256, 384, kernel_size=(3, 3), stride=(1, 1), padding=(1, 1))\n",
       "  (7): ReLU()\n",
       "  (8): Conv2d(384, 384, kernel_size=(3, 3), stride=(1, 1), padding=(1, 1))\n",
       "  (9): ReLU()\n",
       "  (10): Conv2d(384, 256, kernel_size=(3, 3), stride=(1, 1), padding=(1, 1))\n",
       "  (11): ReLU()\n",
       "  (12): MaxPool2d(kernel_size=3, stride=2, padding=0, dilation=1, ceil_mode=False)\n",
       "  (13): Flatten(start_dim=1, end_dim=-1)\n",
       "  (14): Linear(in_features=6400, out_features=4096, bias=True)\n",
       "  (15): ReLU()\n",
       "  (16): Linear(in_features=4096, out_features=4096, bias=True)\n",
       "  (17): ReLU()\n",
       "  (18): Linear(in_features=4096, out_features=10, bias=True)\n",
       ")"
      ]
     },
     "execution_count": 14,
     "metadata": {},
     "output_type": "execute_result"
    }
   ],
   "execution_count": 14
  },
  {
   "metadata": {
    "ExecuteTime": {
     "end_time": "2024-10-14T04:03:54.779180Z",
     "start_time": "2024-10-14T04:03:54.759096Z"
    }
   },
   "cell_type": "code",
   "source": [
    "X = torch.rand(size=(1, 1, 224, 224), dtype=torch.float32)\n",
    "for layer in net:\n",
    "    X = layer(X)\n",
    "    print(layer.__class__.__name__, 'output shape: \\t', X.shape)"
   ],
   "id": "e5c5495a4c0aeddf",
   "outputs": [
    {
     "name": "stdout",
     "output_type": "stream",
     "text": [
      "Conv2d output shape: \t torch.Size([1, 96, 54, 54])\n",
      "ReLU output shape: \t torch.Size([1, 96, 54, 54])\n",
      "MaxPool2d output shape: \t torch.Size([1, 96, 26, 26])\n",
      "Conv2d output shape: \t torch.Size([1, 256, 26, 26])\n",
      "ReLU output shape: \t torch.Size([1, 256, 26, 26])\n",
      "MaxPool2d output shape: \t torch.Size([1, 256, 12, 12])\n",
      "Conv2d output shape: \t torch.Size([1, 384, 12, 12])\n",
      "ReLU output shape: \t torch.Size([1, 384, 12, 12])\n",
      "Conv2d output shape: \t torch.Size([1, 384, 12, 12])\n",
      "ReLU output shape: \t torch.Size([1, 384, 12, 12])\n",
      "Conv2d output shape: \t torch.Size([1, 256, 12, 12])\n",
      "ReLU output shape: \t torch.Size([1, 256, 12, 12])\n",
      "MaxPool2d output shape: \t torch.Size([1, 256, 5, 5])\n",
      "Flatten output shape: \t torch.Size([1, 6400])\n",
      "Linear output shape: \t torch.Size([1, 4096])\n",
      "ReLU output shape: \t torch.Size([1, 4096])\n",
      "Linear output shape: \t torch.Size([1, 4096])\n",
      "ReLU output shape: \t torch.Size([1, 4096])\n",
      "Linear output shape: \t torch.Size([1, 10])\n"
     ]
    }
   ],
   "execution_count": 9
  },
  {
   "metadata": {
    "ExecuteTime": {
     "end_time": "2024-10-14T04:08:24.629836Z",
     "start_time": "2024-10-14T04:08:24.626288Z"
    }
   },
   "cell_type": "code",
   "source": [
    "train_dl = data.DataLoader(train_dataset, batch_size=64, shuffle=True)\n",
    "test_dl = data.DataLoader(test_dataset, batch_size=64, shuffle=False)"
   ],
   "id": "fa7e2a467af2de25",
   "outputs": [],
   "execution_count": 15
  },
  {
   "metadata": {
    "ExecuteTime": {
     "end_time": "2024-10-14T04:08:25.157089Z",
     "start_time": "2024-10-14T04:08:25.153423Z"
    }
   },
   "cell_type": "code",
   "source": [
    "criterion = nn.CrossEntropyLoss()\n",
    "optimizer = optim.SGD(net.parameters(), lr=0.01, momentum=0.9)\n"
   ],
   "id": "8f9dd1c4ced7858b",
   "outputs": [],
   "execution_count": 16
  },
  {
   "metadata": {
    "ExecuteTime": {
     "end_time": "2024-10-14T04:14:31.523038Z",
     "start_time": "2024-10-14T04:08:26.541382Z"
    }
   },
   "cell_type": "code",
   "source": [
    "n_epochs = 10\n",
    "\n",
    "device = torch.device('cuda' if torch.cuda.is_available() else 'cpu')\n",
    "net.to(device)\n",
    "net.train()\n",
    "\n",
    "loss_hist = []\n",
    "\n",
    "for epoch in range(n_epochs):\n",
    "    pbar = tqdm(enumerate(train_dl), total=len(train_dl))\n",
    "    for i, (inputs, targets) in pbar:\n",
    "        inputs, targets = inputs.to(device), targets.to(device)\n",
    "        optimizer.zero_grad()\n",
    "        outputs = net(inputs)\n",
    "        loss = criterion(outputs, targets)\n",
    "        loss.backward()\n",
    "        optimizer.step()\n",
    "        if i % 10 == 0:\n",
    "            loss_hist.append(loss.item())\n",
    "            pbar.set_description(f'Epoch {epoch+1}/{n_epochs}, Loss: {loss.item():.4f}')"
   ],
   "id": "310157d5a4bc13db",
   "outputs": [
    {
     "name": "stderr",
     "output_type": "stream",
     "text": [
      "Epoch 1/10, Loss: 0.5466: 100%|██████████| 938/938 [00:36<00:00, 25.92it/s]\n",
      "Epoch 2/10, Loss: 0.2453: 100%|██████████| 938/938 [00:36<00:00, 25.51it/s]\n",
      "Epoch 3/10, Loss: 0.2562: 100%|██████████| 938/938 [00:37<00:00, 25.21it/s]\n",
      "Epoch 4/10, Loss: 0.2245: 100%|██████████| 938/938 [00:36<00:00, 25.51it/s]\n",
      "Epoch 5/10, Loss: 0.0950: 100%|██████████| 938/938 [00:37<00:00, 25.24it/s]\n",
      "Epoch 6/10, Loss: 0.1881: 100%|██████████| 938/938 [00:36<00:00, 25.92it/s]\n",
      "Epoch 7/10, Loss: 0.2162: 100%|██████████| 938/938 [00:36<00:00, 25.96it/s]\n",
      "Epoch 8/10, Loss: 0.0646: 100%|██████████| 938/938 [00:35<00:00, 26.18it/s]\n",
      "Epoch 9/10, Loss: 0.3342: 100%|██████████| 938/938 [00:36<00:00, 25.88it/s]\n",
      "Epoch 10/10, Loss: 0.0889: 100%|██████████| 938/938 [00:36<00:00, 25.75it/s]\n"
     ]
    }
   ],
   "execution_count": 17
  },
  {
   "metadata": {
    "ExecuteTime": {
     "end_time": "2024-10-14T04:14:31.677955Z",
     "start_time": "2024-10-14T04:14:31.573015Z"
    }
   },
   "cell_type": "code",
   "source": "plt.plot(loss_hist)",
   "id": "d01484fd3ef13426",
   "outputs": [
    {
     "data": {
      "text/plain": [
       "[<matplotlib.lines.Line2D at 0x1e9ad1cb810>]"
      ]
     },
     "execution_count": 18,
     "metadata": {},
     "output_type": "execute_result"
    },
    {
     "data": {
      "text/plain": [
       "<Figure size 640x480 with 1 Axes>"
      ],
      "image/png": "[encoded data removed]"
     },
     "metadata": {},
     "output_type": "display_data"
    }
   ],
   "execution_count": 18
  },
  {
   "metadata": {
    "ExecuteTime": {
     "end_time": "2024-10-14T04:14:48.783496Z",
     "start_time": "2024-10-14T04:14:43.484556Z"
    }
   },
   "cell_type": "code",
   "source": [
    "import numpy as np\n",
    "\n",
    "test_loss = []\n",
    "net.eval()\n",
    "\n",
    "for inputs, targets in test_dl:\n",
    "    inputs, targets = inputs.to(device), targets.to(device)\n",
    "    outputs = net(inputs)\n",
    "    loss = criterion(outputs, targets)\n",
    "    test_loss.append(loss.item())\n",
    "\n",
    "print(np.mean(test_loss))"
   ],
   "id": "5b01f1c5af1b7888",
   "outputs": [
    {
     "name": "stdout",
     "output_type": "stream",
     "text": [
      "0.2635791953653097\n"
     ]
    }
   ],
   "execution_count": 21
  },
  {
   "metadata": {
    "ExecuteTime": {
     "end_time": "2024-10-14T04:14:55.436800Z",
     "start_time": "2024-10-14T04:14:50.376866Z"
    }
   },
   "cell_type": "code",
   "source": [
    "# Evaluate the model\n",
    "with torch.no_grad():\n",
    "    correct = 0\n",
    "    total = 0\n",
    "    for inputs, targets in test_dl:\n",
    "        inputs, targets = inputs.to(device), targets.to(device)\n",
    "        outputs = net(inputs)\n",
    "        _, predicted = torch.max(outputs.data, 1)\n",
    "        total += targets.size(0)\n",
    "        correct += (predicted == targets).sum().item()\n",
    "    print(f'Accuracy of the network on the 10000 test images: {100 * correct / total}%')\n"
   ],
   "id": "8ad830982bc1511c",
   "outputs": [
    {
     "name": "stdout",
     "output_type": "stream",
     "text": [
      "Accuracy of the network on the 10000 test images: 91.93%\n"
     ]
    }
   ],
   "execution_count": 22
  }
 ],
 "metadata": {
  "kernelspec": {
   "display_name": "Python 3",
   "language": "python",
   "name": "python3"
  },
  "language_info": {
   "codemirror_mode": {
    "name": "ipython",
    "version": 2
   },
   "file_extension": ".py",
   "mimetype": "text/x-python",
   "name": "python",
   "nbconvert_exporter": "python",
   "pygments_lexer": "ipython2",
   "version": "2.7.6"
  }
 },
 "nbformat": 4,
 "nbformat_minor": 5
}
