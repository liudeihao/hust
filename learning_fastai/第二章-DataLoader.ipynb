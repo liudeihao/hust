{
 "cells": [
  {
   "cell_type": "code",
   "outputs": [],
   "source": [
    "import os\n",
    "\n",
    "os.environ['http_proxy'] = 'http://127.0.0.1:26001'\n",
    "os.environ['https_proxy'] = 'http://127.0.0.1:26001'\n",
    "\n",
    "# bing搜索图片需要信用卡注册。我没有。\n",
    "os.environ['AZURE_SEARCH_KEY'] = None\n",
    "\n",
    "key = os.environ['AZURE_SEARCH_KEY']"
   ],
   "metadata": {
    "collapsed": false,
    "ExecuteTime": {
     "end_time": "2024-09-18T04:56:29.812825Z",
     "start_time": "2024-09-18T04:56:29.808476Z"
    }
   },
   "id": "4f81994f0bb6f504",
   "execution_count": 3
  },
  {
   "cell_type": "code",
   "outputs": [],
   "source": [
    "bear_types = 'grizzly', 'black', 'teddy'\n",
    "path = Path('bears')\n",
    "\n",
    "if not path.exists():\n",
    "    path.mkdir()\n",
    "    for o in bear_types:\n",
    "        dest = (path/o)\n",
    "        dest.mkdir(exist_ok=True)\n",
    "        results = search_images_bing(key, f'{o} bear')\n",
    "        download_images(dest, urls=results.attrgot('content_url'))"
   ],
   "metadata": {
    "collapsed": false
   },
   "id": "74a6f1d99c99cad4"
  },
  {
   "cell_type": "code",
   "outputs": [],
   "source": [
    "fns = get_image_files(path)\n",
    "failed = verify_images(fns)\n",
    "failed.map(Path.unlink)"
   ],
   "metadata": {
    "collapsed": false
   },
   "id": "5ee91af164bf9268"
  },
  {
   "cell_type": "code",
   "outputs": [],
   "source": [
    "class DataLoaders(GetAttr):\n",
    "    train, valid = add_props(lambda i, self: self[i])\n",
    "    \n",
    "    def __init__(self, *loaders):\n",
    "        self.loaders = loaders\n",
    "        \n",
    "    def __getitem__(self, i):\n",
    "        return self.loaders[i]"
   ],
   "metadata": {
    "collapsed": false
   },
   "id": "bc46b7eb4cdc0e33"
  },
  {
   "cell_type": "code",
   "outputs": [],
   "source": [
    "bears = DataBlock(\n",
    "    blocks=(ImageBlock, CategoryBlock),     # 指明X和y的数据类型\n",
    "    get_items=get_image_files,\n",
    "    splitter=RandomSplitter(valid_pct=0.2, seed=42),\n",
    "    get_y=parent_label,     # parent_label使用文件夹名作为label\n",
    "    item_tfms=Resize(128)\n",
    ")"
   ],
   "metadata": {
    "collapsed": false
   },
   "id": "db3ed5d86c0e6f44"
  },
  {
   "cell_type": "code",
   "outputs": [],
   "source": [
    "dls = bears.dataloaders(path)\n",
    "dls.valid.show_batch(max_n=4, n_row=1)"
   ],
   "metadata": {
    "collapsed": false
   },
   "id": "96922ade60c07c9b"
  },
  {
   "cell_type": "code",
   "outputs": [],
   "source": [
    "bears = bears.new(item_tfms=Resize(128, ResizeMethod.Squish))\n",
    "dls = bears.dataloaders(path)\n",
    "dls.valid.show_batch(max_n=4, n_row=1)"
   ],
   "metadata": {
    "collapsed": false
   },
   "id": "1e4962e597e47a7c"
  },
  {
   "cell_type": "code",
   "outputs": [],
   "source": [
    "bears = bears.new(item_tfms=Resize(128, ResizeMethod.Pad, pad_mode='zeros'))\n",
    "dls = bears.dataloaders(path)\n",
    "dls.valid.show_batch(max_n=4, n_row=1)"
   ],
   "metadata": {
    "collapsed": false
   },
   "id": "fd042c26f3bfa41"
  },
  {
   "cell_type": "code",
   "outputs": [],
   "source": [
    "bears = bears.new(item_tfms=RandomResizedCrop(128, min_scale=0.3))\n",
    "dls = bears.dataloaders(path)\n",
    "dls.valid.show_batch(max_n=4, n_row=1, unique=True)"
   ],
   "metadata": {
    "collapsed": false
   },
   "id": "10628a50251f792"
  },
  {
   "cell_type": "code",
   "outputs": [],
   "source": [
    "bears = bears.new(item_tfms=Resize(128), batch_tfms=aug_transforms(mult=2))\n",
    "dls = bears.dataloaders(path)\n",
    "dls.valid.show_batch(max_n=8, n_row=2, unique=True)"
   ],
   "metadata": {
    "collapsed": false
   },
   "id": "ce5b30af2093d995"
  },
  {
   "cell_type": "code",
   "outputs": [],
   "source": [
    "bears = bears.new(\n",
    "    item_tfms=RandomResizedCrop(224, min_scale=0.5),\n",
    "    batch_tfms=aug_transforms()\n",
    ")\n",
    "dls = bears.dataloaders(path)"
   ],
   "metadata": {
    "collapsed": false
   },
   "id": "63bbca9462fea55b"
  },
  {
   "cell_type": "code",
   "outputs": [],
   "source": [
    "learn = cnn_learner(dls, resnet18, metrics=error_rate)\n",
    "learn.fine_tune(4)"
   ],
   "metadata": {
    "collapsed": false
   },
   "id": "9ba0088d1c18e03a"
  },
  {
   "cell_type": "code",
   "outputs": [],
   "source": [
    "interp = ClassificationInterpretation.from_learner(learn)\n",
    "interp.plot_confusion_matrix()"
   ],
   "metadata": {
    "collapsed": false
   },
   "id": "2c8e556af1694e75"
  },
  {
   "cell_type": "code",
   "outputs": [],
   "source": [
    "interp.plot_top_losses(5, nrows=1)"
   ],
   "metadata": {
    "collapsed": false
   },
   "id": "c093a6bde3c1cdca"
  },
  {
   "cell_type": "code",
   "outputs": [],
   "source": [
    "cleaner = ImageClassifierCleaner(learn)\n",
    "cleaner"
   ],
   "metadata": {
    "collapsed": false
   },
   "id": "f3564534f5c2792f"
  },
  {
   "cell_type": "code",
   "outputs": [],
   "source": [
    "for idx in cleaner.delete():\n",
    "    cleaner.fns[idx].unlink()\n",
    "\n",
    "for idx, cat in cleaner.change():\n",
    "    shutil.move(str(cleaner.fns[idx]), path/cat)"
   ],
   "metadata": {
    "collapsed": false
   },
   "id": "617954a0f189f4e3"
  },
  {
   "cell_type": "code",
   "outputs": [],
   "source": [
    "learn.export()"
   ],
   "metadata": {
    "collapsed": false
   },
   "id": "9086eea7a61804ea"
  },
  {
   "cell_type": "code",
   "outputs": [],
   "source": [
    "path = Path()\n",
    "path.ls(file_exts='.pkl')"
   ],
   "metadata": {
    "collapsed": false
   },
   "id": "b3087e5dbd4ebad"
  },
  {
   "cell_type": "code",
   "outputs": [],
   "source": [
    "learn_inf = load_learner(path/'export.pkl')\n",
    "learn_inf.predict('images/grizzly.jpg')"
   ],
   "metadata": {
    "collapsed": false
   },
   "id": "fd99b854d31b20d6"
  },
  {
   "cell_type": "code",
   "outputs": [],
   "source": [
    "learn_inf.dls.vocab"
   ],
   "metadata": {
    "collapsed": false
   },
   "id": "b91ff1da3d0adac6"
  },
  {
   "cell_type": "code",
   "outputs": [],
   "source": [
    "btn_upload = widgets.FileUpload()\n",
    "btn_upload"
   ],
   "metadata": {
    "collapsed": false
   },
   "id": "72e6655dd9c0fe1b"
  },
  {
   "cell_type": "code",
   "outputs": [],
   "source": [
    "img = PILImage.create(btn_upload.data[-1])"
   ],
   "metadata": {
    "collapsed": false
   },
   "id": "c39c9e316d8297a6"
  },
  {
   "cell_type": "code",
   "outputs": [],
   "source": [
    "out_pl = widgets.Output()\n",
    "out_pl.clear_output()\n",
    "with out_pl:\n",
    "    display(img.to_thumb(128,128))\n",
    "out_pl"
   ],
   "metadata": {
    "collapsed": false
   },
   "id": "ddd9f9c766735d45"
  },
  {
   "cell_type": "code",
   "outputs": [],
   "source": [
    "pred, pred_idx, probs = learn_inf.predict(img)"
   ],
   "metadata": {
    "collapsed": false
   },
   "id": "2cf4943fac0e68d3"
  },
  {
   "cell_type": "code",
   "outputs": [],
   "source": [
    "lbl_pred = widgets.Label()\n",
    "lbl_pred.value = f'Prediction: {pred}; Probability: {probs[pred_idx]:.4f}' \n",
    "lbl_pred"
   ],
   "metadata": {
    "collapsed": false
   },
   "id": "97b76ae93d14ca89"
  },
  {
   "cell_type": "code",
   "outputs": [],
   "source": [
    "btn_run = widgets.Button(description='Classify')"
   ],
   "metadata": {
    "collapsed": false
   },
   "id": "202d5f78cb7eab52"
  },
  {
   "cell_type": "code",
   "outputs": [],
   "source": [
    "def on_click_classify(change):\n",
    "    img = PILImage.create(btn_upload.data[-1])\n",
    "    out_pl.clear_output()\n",
    "    with out_pl:\n",
    "        display(img.to_thumb(128,128))\n",
    "    pred, pred_idx, probs = learn_inf.predict(img)\n",
    "    lbl_pred.value = f'Prediction: {pred}; Probability: {probs[pred_idx]:.4f}' \n",
    "\n",
    "btn_run.on_click(on_click_classify)"
   ],
   "metadata": {
    "collapsed": false
   },
   "id": "e0cf8d4e0b0ed55b"
  },
  {
   "cell_type": "code",
   "outputs": [],
   "source": [
    "VBox([widgets.Label('Select your bear!'),\n",
    "      btn_upload, btn_run, out_pl, lbl_pred])"
   ],
   "metadata": {
    "collapsed": false
   },
   "id": "3b539b787fe654da"
  },
  {
   "cell_type": "code",
   "outputs": [],
   "source": [
    "!pip install voila\n",
    "!jupyter serverextension enable voila --sys-prefix"
   ],
   "metadata": {
    "collapsed": false
   },
   "id": "61faa0e4bfca9e65"
  },
  {
   "cell_type": "code",
   "outputs": [],
   "source": [],
   "metadata": {
    "collapsed": false
   },
   "id": "fe58398888a16022"
  }
 ],
 "metadata": {
  "kernelspec": {
   "display_name": "Python 3",
   "language": "python",
   "name": "python3"
  },
  "language_info": {
   "codemirror_mode": {
    "name": "ipython",
    "version": 2
   },
   "file_extension": ".py",
   "mimetype": "text/x-python",
   "name": "python",
   "nbconvert_exporter": "python",
   "pygments_lexer": "ipython2",
   "version": "2.7.6"
  }
 },
 "nbformat": 4,
 "nbformat_minor": 5
}
