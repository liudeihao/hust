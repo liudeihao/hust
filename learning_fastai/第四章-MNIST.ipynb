{
 "cells": [
  {
   "cell_type": "code",
   "source": [
    "import os\n",
    "\n",
    "os.environ['http_proxy'] = 'http://127.0.0.1:26001'\n",
    "os.environ['https_proxy'] = 'http://127.0.0.1:26001'"
   ],
   "metadata": {
    "collapsed": false,
    "ExecuteTime": {
     "end_time": "2024-09-19T13:51:30.619905Z",
     "start_time": "2024-09-19T13:51:30.612570Z"
    }
   },
   "id": "4f81994f0bb6f504",
   "outputs": [],
   "execution_count": 1
  },
  {
   "cell_type": "code",
   "source": [
    "from fastai.vision.all import *\n",
    "\n",
    "path = untar_data(URLs.MNIST_SAMPLE)\n",
    "path.ls()"
   ],
   "metadata": {
    "collapsed": false,
    "ExecuteTime": {
     "end_time": "2024-09-19T13:51:39.989898Z",
     "start_time": "2024-09-19T13:51:34.933221Z"
    }
   },
   "id": "82554d7b2526ed2e",
   "outputs": [
    {
     "data": {
      "text/plain": [
       "(#3) [Path('C:/Users/liude/.fastai/data/mnist_sample/labels.csv'),Path('C:/Users/liude/.fastai/data/mnist_sample/train'),Path('C:/Users/liude/.fastai/data/mnist_sample/valid')]"
      ]
     },
     "execution_count": 2,
     "metadata": {},
     "output_type": "execute_result"
    }
   ],
   "execution_count": 2
  },
  {
   "cell_type": "code",
   "source": [
    "threes = (path/'train'/'3').ls().sorted()\n",
    "sevens = (path/'train'/'7').ls().sorted()\n",
    "\n",
    "im3_path = threes[1]\n",
    "im3 = Image.open(im3_path)\n",
    "im3_t = tensor(im3)\n",
    "df = pd.DataFrame(im3_t[4:15, 4:22])\n",
    "df.style.set_properties(**{'font-size': '6pt'}).background_gradient('Grays')"
   ],
   "metadata": {
    "collapsed": false,
    "ExecuteTime": {
     "end_time": "2024-09-19T13:51:40.224866Z",
     "start_time": "2024-09-19T13:51:40.067812Z"
    }
   },
   "id": "54719f5c5335beba",
   "outputs": [
    {
     "data": {
      "text/plain": [
       "<pandas.io.formats.style.Styler at 0x20bfd4ff050>"
      ],
      "text/html": [
       "<style type=\"text/css\">\n",
       "#T_bcd6b_row0_col0, #T_bcd6b_row0_col1, #T_bcd6b_row0_col2, #T_bcd6b_row0_col3, #T_bcd6b_row0_col4, #T_bcd6b_row0_col5, #T_bcd6b_row0_col6, #T_bcd6b_row0_col7, #T_bcd6b_row0_col8, #T_bcd6b_row0_col9, #T_bcd6b_row0_col10, #T_bcd6b_row0_col11, #T_bcd6b_row0_col12, #T_bcd6b_row0_col13, #T_bcd6b_row0_col14, #T_bcd6b_row0_col15, #T_bcd6b_row0_col16, #T_bcd6b_row0_col17, #T_bcd6b_row1_col0, #T_bcd6b_row1_col1, #T_bcd6b_row1_col2, #T_bcd6b_row1_col3, #T_bcd6b_row1_col4, #T_bcd6b_row1_col15, #T_bcd6b_row1_col16, #T_bcd6b_row1_col17, #T_bcd6b_row2_col0, #T_bcd6b_row2_col1, #T_bcd6b_row2_col2, #T_bcd6b_row2_col15, #T_bcd6b_row2_col16, #T_bcd6b_row2_col17, #T_bcd6b_row3_col0, #T_bcd6b_row3_col15, #T_bcd6b_row3_col16, #T_bcd6b_row3_col17, #T_bcd6b_row4_col0, #T_bcd6b_row4_col6, #T_bcd6b_row4_col7, #T_bcd6b_row4_col8, #T_bcd6b_row4_col9, #T_bcd6b_row4_col10, #T_bcd6b_row4_col15, #T_bcd6b_row4_col16, #T_bcd6b_row4_col17, #T_bcd6b_row5_col0, #T_bcd6b_row5_col5, #T_bcd6b_row5_col6, #T_bcd6b_row5_col7, #T_bcd6b_row5_col8, #T_bcd6b_row5_col9, #T_bcd6b_row5_col15, #T_bcd6b_row5_col16, #T_bcd6b_row5_col17, #T_bcd6b_row6_col0, #T_bcd6b_row6_col1, #T_bcd6b_row6_col2, #T_bcd6b_row6_col3, #T_bcd6b_row6_col4, #T_bcd6b_row6_col5, #T_bcd6b_row6_col6, #T_bcd6b_row6_col7, #T_bcd6b_row6_col8, #T_bcd6b_row6_col9, #T_bcd6b_row6_col14, #T_bcd6b_row6_col15, #T_bcd6b_row6_col16, #T_bcd6b_row6_col17, #T_bcd6b_row7_col0, #T_bcd6b_row7_col1, #T_bcd6b_row7_col2, #T_bcd6b_row7_col3, #T_bcd6b_row7_col4, #T_bcd6b_row7_col5, #T_bcd6b_row7_col6, #T_bcd6b_row7_col13, #T_bcd6b_row7_col14, #T_bcd6b_row7_col15, #T_bcd6b_row7_col16, #T_bcd6b_row7_col17, #T_bcd6b_row8_col0, #T_bcd6b_row8_col1, #T_bcd6b_row8_col2, #T_bcd6b_row8_col3, #T_bcd6b_row8_col4, #T_bcd6b_row8_col13, #T_bcd6b_row8_col14, #T_bcd6b_row8_col15, #T_bcd6b_row8_col16, #T_bcd6b_row8_col17, #T_bcd6b_row9_col0, #T_bcd6b_row9_col1, #T_bcd6b_row9_col2, #T_bcd6b_row9_col3, #T_bcd6b_row9_col4, #T_bcd6b_row9_col16, #T_bcd6b_row9_col17, #T_bcd6b_row10_col0, #T_bcd6b_row10_col1, #T_bcd6b_row10_col2, #T_bcd6b_row10_col3, #T_bcd6b_row10_col4, #T_bcd6b_row10_col5, #T_bcd6b_row10_col6, #T_bcd6b_row10_col17 {\n",
       "  font-size: 6pt;\n",
       "  background-color: #ffffff;\n",
       "  color: #000000;\n",
       "}\n",
       "#T_bcd6b_row1_col5 {\n",
       "  font-size: 6pt;\n",
       "  background-color: #efefef;\n",
       "  color: #000000;\n",
       "}\n",
       "#T_bcd6b_row1_col6, #T_bcd6b_row1_col13 {\n",
       "  font-size: 6pt;\n",
       "  background-color: #7c7c7c;\n",
       "  color: #f1f1f1;\n",
       "}\n",
       "#T_bcd6b_row1_col7 {\n",
       "  font-size: 6pt;\n",
       "  background-color: #4a4a4a;\n",
       "  color: #f1f1f1;\n",
       "}\n",
       "#T_bcd6b_row1_col8, #T_bcd6b_row1_col9, #T_bcd6b_row1_col10, #T_bcd6b_row2_col5, #T_bcd6b_row2_col6, #T_bcd6b_row2_col7, #T_bcd6b_row2_col11, #T_bcd6b_row2_col12, #T_bcd6b_row2_col13, #T_bcd6b_row3_col4, #T_bcd6b_row3_col12, #T_bcd6b_row3_col13, #T_bcd6b_row4_col1, #T_bcd6b_row4_col2, #T_bcd6b_row4_col3, #T_bcd6b_row4_col12, #T_bcd6b_row4_col13, #T_bcd6b_row5_col12, #T_bcd6b_row6_col11, #T_bcd6b_row9_col11, #T_bcd6b_row10_col11, #T_bcd6b_row10_col12, #T_bcd6b_row10_col13, #T_bcd6b_row10_col14, #T_bcd6b_row10_col15, #T_bcd6b_row10_col16 {\n",
       "  font-size: 6pt;\n",
       "  background-color: #000000;\n",
       "  color: #f1f1f1;\n",
       "}\n",
       "#T_bcd6b_row1_col11 {\n",
       "  font-size: 6pt;\n",
       "  background-color: #606060;\n",
       "  color: #f1f1f1;\n",
       "}\n",
       "#T_bcd6b_row1_col12 {\n",
       "  font-size: 6pt;\n",
       "  background-color: #4d4d4d;\n",
       "  color: #f1f1f1;\n",
       "}\n",
       "#T_bcd6b_row1_col14 {\n",
       "  font-size: 6pt;\n",
       "  background-color: #bbbbbb;\n",
       "  color: #000000;\n",
       "}\n",
       "#T_bcd6b_row2_col3 {\n",
       "  font-size: 6pt;\n",
       "  background-color: #e4e4e4;\n",
       "  color: #000000;\n",
       "}\n",
       "#T_bcd6b_row2_col4, #T_bcd6b_row8_col6 {\n",
       "  font-size: 6pt;\n",
       "  background-color: #6b6b6b;\n",
       "  color: #f1f1f1;\n",
       "}\n",
       "#T_bcd6b_row2_col8, #T_bcd6b_row2_col14, #T_bcd6b_row3_col14 {\n",
       "  font-size: 6pt;\n",
       "  background-color: #171717;\n",
       "  color: #f1f1f1;\n",
       "}\n",
       "#T_bcd6b_row2_col9, #T_bcd6b_row3_col11 {\n",
       "  font-size: 6pt;\n",
       "  background-color: #4b4b4b;\n",
       "  color: #f1f1f1;\n",
       "}\n",
       "#T_bcd6b_row2_col10, #T_bcd6b_row7_col10, #T_bcd6b_row8_col8, #T_bcd6b_row8_col10, #T_bcd6b_row9_col8, #T_bcd6b_row9_col10 {\n",
       "  font-size: 6pt;\n",
       "  background-color: #010101;\n",
       "  color: #f1f1f1;\n",
       "}\n",
       "#T_bcd6b_row3_col1 {\n",
       "  font-size: 6pt;\n",
       "  background-color: #272727;\n",
       "  color: #f1f1f1;\n",
       "}\n",
       "#T_bcd6b_row3_col2 {\n",
       "  font-size: 6pt;\n",
       "  background-color: #0a0a0a;\n",
       "  color: #f1f1f1;\n",
       "}\n",
       "#T_bcd6b_row3_col3 {\n",
       "  font-size: 6pt;\n",
       "  background-color: #050505;\n",
       "  color: #f1f1f1;\n",
       "}\n",
       "#T_bcd6b_row3_col5 {\n",
       "  font-size: 6pt;\n",
       "  background-color: #333333;\n",
       "  color: #f1f1f1;\n",
       "}\n",
       "#T_bcd6b_row3_col6 {\n",
       "  font-size: 6pt;\n",
       "  background-color: #e6e6e6;\n",
       "  color: #000000;\n",
       "}\n",
       "#T_bcd6b_row3_col7, #T_bcd6b_row3_col10 {\n",
       "  font-size: 6pt;\n",
       "  background-color: #fafafa;\n",
       "  color: #000000;\n",
       "}\n",
       "#T_bcd6b_row3_col8 {\n",
       "  font-size: 6pt;\n",
       "  background-color: #fbfbfb;\n",
       "  color: #000000;\n",
       "}\n",
       "#T_bcd6b_row3_col9 {\n",
       "  font-size: 6pt;\n",
       "  background-color: #fdfdfd;\n",
       "  color: #000000;\n",
       "}\n",
       "#T_bcd6b_row4_col4 {\n",
       "  font-size: 6pt;\n",
       "  background-color: #1b1b1b;\n",
       "  color: #f1f1f1;\n",
       "}\n",
       "#T_bcd6b_row4_col5 {\n",
       "  font-size: 6pt;\n",
       "  background-color: #e0e0e0;\n",
       "  color: #000000;\n",
       "}\n",
       "#T_bcd6b_row4_col11 {\n",
       "  font-size: 6pt;\n",
       "  background-color: #4e4e4e;\n",
       "  color: #f1f1f1;\n",
       "}\n",
       "#T_bcd6b_row4_col14 {\n",
       "  font-size: 6pt;\n",
       "  background-color: #767676;\n",
       "  color: #f1f1f1;\n",
       "}\n",
       "#T_bcd6b_row5_col1 {\n",
       "  font-size: 6pt;\n",
       "  background-color: #fcfcfc;\n",
       "  color: #000000;\n",
       "}\n",
       "#T_bcd6b_row5_col2, #T_bcd6b_row5_col3 {\n",
       "  font-size: 6pt;\n",
       "  background-color: #f6f6f6;\n",
       "  color: #000000;\n",
       "}\n",
       "#T_bcd6b_row5_col4, #T_bcd6b_row7_col7 {\n",
       "  font-size: 6pt;\n",
       "  background-color: #f8f8f8;\n",
       "  color: #000000;\n",
       "}\n",
       "#T_bcd6b_row5_col10, #T_bcd6b_row10_col7 {\n",
       "  font-size: 6pt;\n",
       "  background-color: #e8e8e8;\n",
       "  color: #000000;\n",
       "}\n",
       "#T_bcd6b_row5_col11 {\n",
       "  font-size: 6pt;\n",
       "  background-color: #222222;\n",
       "  color: #f1f1f1;\n",
       "}\n",
       "#T_bcd6b_row5_col13, #T_bcd6b_row6_col12 {\n",
       "  font-size: 6pt;\n",
       "  background-color: #090909;\n",
       "  color: #f1f1f1;\n",
       "}\n",
       "#T_bcd6b_row5_col14 {\n",
       "  font-size: 6pt;\n",
       "  background-color: #d0d0d0;\n",
       "  color: #000000;\n",
       "}\n",
       "#T_bcd6b_row6_col10, #T_bcd6b_row7_col11, #T_bcd6b_row9_col6 {\n",
       "  font-size: 6pt;\n",
       "  background-color: #060606;\n",
       "  color: #f1f1f1;\n",
       "}\n",
       "#T_bcd6b_row6_col13 {\n",
       "  font-size: 6pt;\n",
       "  background-color: #979797;\n",
       "  color: #f1f1f1;\n",
       "}\n",
       "#T_bcd6b_row7_col8 {\n",
       "  font-size: 6pt;\n",
       "  background-color: #b6b6b6;\n",
       "  color: #000000;\n",
       "}\n",
       "#T_bcd6b_row7_col9 {\n",
       "  font-size: 6pt;\n",
       "  background-color: #252525;\n",
       "  color: #f1f1f1;\n",
       "}\n",
       "#T_bcd6b_row7_col12 {\n",
       "  font-size: 6pt;\n",
       "  background-color: #999999;\n",
       "  color: #f1f1f1;\n",
       "}\n",
       "#T_bcd6b_row8_col5 {\n",
       "  font-size: 6pt;\n",
       "  background-color: #f9f9f9;\n",
       "  color: #000000;\n",
       "}\n",
       "#T_bcd6b_row8_col7 {\n",
       "  font-size: 6pt;\n",
       "  background-color: #101010;\n",
       "  color: #f1f1f1;\n",
       "}\n",
       "#T_bcd6b_row8_col9, #T_bcd6b_row9_col9 {\n",
       "  font-size: 6pt;\n",
       "  background-color: #020202;\n",
       "  color: #f1f1f1;\n",
       "}\n",
       "#T_bcd6b_row8_col11 {\n",
       "  font-size: 6pt;\n",
       "  background-color: #545454;\n",
       "  color: #f1f1f1;\n",
       "}\n",
       "#T_bcd6b_row8_col12 {\n",
       "  font-size: 6pt;\n",
       "  background-color: #f1f1f1;\n",
       "  color: #000000;\n",
       "}\n",
       "#T_bcd6b_row9_col5 {\n",
       "  font-size: 6pt;\n",
       "  background-color: #f7f7f7;\n",
       "  color: #000000;\n",
       "}\n",
       "#T_bcd6b_row9_col7 {\n",
       "  font-size: 6pt;\n",
       "  background-color: #030303;\n",
       "  color: #f1f1f1;\n",
       "}\n",
       "#T_bcd6b_row9_col12 {\n",
       "  font-size: 6pt;\n",
       "  background-color: #181818;\n",
       "  color: #f1f1f1;\n",
       "}\n",
       "#T_bcd6b_row9_col13 {\n",
       "  font-size: 6pt;\n",
       "  background-color: #303030;\n",
       "  color: #f1f1f1;\n",
       "}\n",
       "#T_bcd6b_row9_col14 {\n",
       "  font-size: 6pt;\n",
       "  background-color: #a9a9a9;\n",
       "  color: #f1f1f1;\n",
       "}\n",
       "#T_bcd6b_row9_col15 {\n",
       "  font-size: 6pt;\n",
       "  background-color: #fefefe;\n",
       "  color: #000000;\n",
       "}\n",
       "#T_bcd6b_row10_col8, #T_bcd6b_row10_col9 {\n",
       "  font-size: 6pt;\n",
       "  background-color: #bababa;\n",
       "  color: #000000;\n",
       "}\n",
       "#T_bcd6b_row10_col10 {\n",
       "  font-size: 6pt;\n",
       "  background-color: #393939;\n",
       "  color: #f1f1f1;\n",
       "}\n",
       "</style>\n",
       "<table id=\"T_bcd6b\">\n",
       "  <thead>\n",
       "    <tr>\n",
       "      <th class=\"blank level0\" >&nbsp;</th>\n",
       "      <th id=\"T_bcd6b_level0_col0\" class=\"col_heading level0 col0\" >0</th>\n",
       "      <th id=\"T_bcd6b_level0_col1\" class=\"col_heading level0 col1\" >1</th>\n",
       "      <th id=\"T_bcd6b_level0_col2\" class=\"col_heading level0 col2\" >2</th>\n",
       "      <th id=\"T_bcd6b_level0_col3\" class=\"col_heading level0 col3\" >3</th>\n",
       "      <th id=\"T_bcd6b_level0_col4\" class=\"col_heading level0 col4\" >4</th>\n",
       "      <th id=\"T_bcd6b_level0_col5\" class=\"col_heading level0 col5\" >5</th>\n",
       "      <th id=\"T_bcd6b_level0_col6\" class=\"col_heading level0 col6\" >6</th>\n",
       "      <th id=\"T_bcd6b_level0_col7\" class=\"col_heading level0 col7\" >7</th>\n",
       "      <th id=\"T_bcd6b_level0_col8\" class=\"col_heading level0 col8\" >8</th>\n",
       "      <th id=\"T_bcd6b_level0_col9\" class=\"col_heading level0 col9\" >9</th>\n",
       "      <th id=\"T_bcd6b_level0_col10\" class=\"col_heading level0 col10\" >10</th>\n",
       "      <th id=\"T_bcd6b_level0_col11\" class=\"col_heading level0 col11\" >11</th>\n",
       "      <th id=\"T_bcd6b_level0_col12\" class=\"col_heading level0 col12\" >12</th>\n",
       "      <th id=\"T_bcd6b_level0_col13\" class=\"col_heading level0 col13\" >13</th>\n",
       "      <th id=\"T_bcd6b_level0_col14\" class=\"col_heading level0 col14\" >14</th>\n",
       "      <th id=\"T_bcd6b_level0_col15\" class=\"col_heading level0 col15\" >15</th>\n",
       "      <th id=\"T_bcd6b_level0_col16\" class=\"col_heading level0 col16\" >16</th>\n",
       "      <th id=\"T_bcd6b_level0_col17\" class=\"col_heading level0 col17\" >17</th>\n",
       "    </tr>\n",
       "  </thead>\n",
       "  <tbody>\n",
       "    <tr>\n",
       "      <th id=\"T_bcd6b_level0_row0\" class=\"row_heading level0 row0\" >0</th>\n",
       "      <td id=\"T_bcd6b_row0_col0\" class=\"data row0 col0\" >0</td>\n",
       "      <td id=\"T_bcd6b_row0_col1\" class=\"data row0 col1\" >0</td>\n",
       "      <td id=\"T_bcd6b_row0_col2\" class=\"data row0 col2\" >0</td>\n",
       "      <td id=\"T_bcd6b_row0_col3\" class=\"data row0 col3\" >0</td>\n",
       "      <td id=\"T_bcd6b_row0_col4\" class=\"data row0 col4\" >0</td>\n",
       "      <td id=\"T_bcd6b_row0_col5\" class=\"data row0 col5\" >0</td>\n",
       "      <td id=\"T_bcd6b_row0_col6\" class=\"data row0 col6\" >0</td>\n",
       "      <td id=\"T_bcd6b_row0_col7\" class=\"data row0 col7\" >0</td>\n",
       "      <td id=\"T_bcd6b_row0_col8\" class=\"data row0 col8\" >0</td>\n",
       "      <td id=\"T_bcd6b_row0_col9\" class=\"data row0 col9\" >0</td>\n",
       "      <td id=\"T_bcd6b_row0_col10\" class=\"data row0 col10\" >0</td>\n",
       "      <td id=\"T_bcd6b_row0_col11\" class=\"data row0 col11\" >0</td>\n",
       "      <td id=\"T_bcd6b_row0_col12\" class=\"data row0 col12\" >0</td>\n",
       "      <td id=\"T_bcd6b_row0_col13\" class=\"data row0 col13\" >0</td>\n",
       "      <td id=\"T_bcd6b_row0_col14\" class=\"data row0 col14\" >0</td>\n",
       "      <td id=\"T_bcd6b_row0_col15\" class=\"data row0 col15\" >0</td>\n",
       "      <td id=\"T_bcd6b_row0_col16\" class=\"data row0 col16\" >0</td>\n",
       "      <td id=\"T_bcd6b_row0_col17\" class=\"data row0 col17\" >0</td>\n",
       "    </tr>\n",
       "    <tr>\n",
       "      <th id=\"T_bcd6b_level0_row1\" class=\"row_heading level0 row1\" >1</th>\n",
       "      <td id=\"T_bcd6b_row1_col0\" class=\"data row1 col0\" >0</td>\n",
       "      <td id=\"T_bcd6b_row1_col1\" class=\"data row1 col1\" >0</td>\n",
       "      <td id=\"T_bcd6b_row1_col2\" class=\"data row1 col2\" >0</td>\n",
       "      <td id=\"T_bcd6b_row1_col3\" class=\"data row1 col3\" >0</td>\n",
       "      <td id=\"T_bcd6b_row1_col4\" class=\"data row1 col4\" >0</td>\n",
       "      <td id=\"T_bcd6b_row1_col5\" class=\"data row1 col5\" >29</td>\n",
       "      <td id=\"T_bcd6b_row1_col6\" class=\"data row1 col6\" >150</td>\n",
       "      <td id=\"T_bcd6b_row1_col7\" class=\"data row1 col7\" >195</td>\n",
       "      <td id=\"T_bcd6b_row1_col8\" class=\"data row1 col8\" >254</td>\n",
       "      <td id=\"T_bcd6b_row1_col9\" class=\"data row1 col9\" >255</td>\n",
       "      <td id=\"T_bcd6b_row1_col10\" class=\"data row1 col10\" >254</td>\n",
       "      <td id=\"T_bcd6b_row1_col11\" class=\"data row1 col11\" >176</td>\n",
       "      <td id=\"T_bcd6b_row1_col12\" class=\"data row1 col12\" >193</td>\n",
       "      <td id=\"T_bcd6b_row1_col13\" class=\"data row1 col13\" >150</td>\n",
       "      <td id=\"T_bcd6b_row1_col14\" class=\"data row1 col14\" >96</td>\n",
       "      <td id=\"T_bcd6b_row1_col15\" class=\"data row1 col15\" >0</td>\n",
       "      <td id=\"T_bcd6b_row1_col16\" class=\"data row1 col16\" >0</td>\n",
       "      <td id=\"T_bcd6b_row1_col17\" class=\"data row1 col17\" >0</td>\n",
       "    </tr>\n",
       "    <tr>\n",
       "      <th id=\"T_bcd6b_level0_row2\" class=\"row_heading level0 row2\" >2</th>\n",
       "      <td id=\"T_bcd6b_row2_col0\" class=\"data row2 col0\" >0</td>\n",
       "      <td id=\"T_bcd6b_row2_col1\" class=\"data row2 col1\" >0</td>\n",
       "      <td id=\"T_bcd6b_row2_col2\" class=\"data row2 col2\" >0</td>\n",
       "      <td id=\"T_bcd6b_row2_col3\" class=\"data row2 col3\" >48</td>\n",
       "      <td id=\"T_bcd6b_row2_col4\" class=\"data row2 col4\" >166</td>\n",
       "      <td id=\"T_bcd6b_row2_col5\" class=\"data row2 col5\" >224</td>\n",
       "      <td id=\"T_bcd6b_row2_col6\" class=\"data row2 col6\" >253</td>\n",
       "      <td id=\"T_bcd6b_row2_col7\" class=\"data row2 col7\" >253</td>\n",
       "      <td id=\"T_bcd6b_row2_col8\" class=\"data row2 col8\" >234</td>\n",
       "      <td id=\"T_bcd6b_row2_col9\" class=\"data row2 col9\" >196</td>\n",
       "      <td id=\"T_bcd6b_row2_col10\" class=\"data row2 col10\" >253</td>\n",
       "      <td id=\"T_bcd6b_row2_col11\" class=\"data row2 col11\" >253</td>\n",
       "      <td id=\"T_bcd6b_row2_col12\" class=\"data row2 col12\" >253</td>\n",
       "      <td id=\"T_bcd6b_row2_col13\" class=\"data row2 col13\" >253</td>\n",
       "      <td id=\"T_bcd6b_row2_col14\" class=\"data row2 col14\" >233</td>\n",
       "      <td id=\"T_bcd6b_row2_col15\" class=\"data row2 col15\" >0</td>\n",
       "      <td id=\"T_bcd6b_row2_col16\" class=\"data row2 col16\" >0</td>\n",
       "      <td id=\"T_bcd6b_row2_col17\" class=\"data row2 col17\" >0</td>\n",
       "    </tr>\n",
       "    <tr>\n",
       "      <th id=\"T_bcd6b_level0_row3\" class=\"row_heading level0 row3\" >3</th>\n",
       "      <td id=\"T_bcd6b_row3_col0\" class=\"data row3 col0\" >0</td>\n",
       "      <td id=\"T_bcd6b_row3_col1\" class=\"data row3 col1\" >93</td>\n",
       "      <td id=\"T_bcd6b_row3_col2\" class=\"data row3 col2\" >244</td>\n",
       "      <td id=\"T_bcd6b_row3_col3\" class=\"data row3 col3\" >249</td>\n",
       "      <td id=\"T_bcd6b_row3_col4\" class=\"data row3 col4\" >253</td>\n",
       "      <td id=\"T_bcd6b_row3_col5\" class=\"data row3 col5\" >187</td>\n",
       "      <td id=\"T_bcd6b_row3_col6\" class=\"data row3 col6\" >46</td>\n",
       "      <td id=\"T_bcd6b_row3_col7\" class=\"data row3 col7\" >10</td>\n",
       "      <td id=\"T_bcd6b_row3_col8\" class=\"data row3 col8\" >8</td>\n",
       "      <td id=\"T_bcd6b_row3_col9\" class=\"data row3 col9\" >4</td>\n",
       "      <td id=\"T_bcd6b_row3_col10\" class=\"data row3 col10\" >10</td>\n",
       "      <td id=\"T_bcd6b_row3_col11\" class=\"data row3 col11\" >194</td>\n",
       "      <td id=\"T_bcd6b_row3_col12\" class=\"data row3 col12\" >253</td>\n",
       "      <td id=\"T_bcd6b_row3_col13\" class=\"data row3 col13\" >253</td>\n",
       "      <td id=\"T_bcd6b_row3_col14\" class=\"data row3 col14\" >233</td>\n",
       "      <td id=\"T_bcd6b_row3_col15\" class=\"data row3 col15\" >0</td>\n",
       "      <td id=\"T_bcd6b_row3_col16\" class=\"data row3 col16\" >0</td>\n",
       "      <td id=\"T_bcd6b_row3_col17\" class=\"data row3 col17\" >0</td>\n",
       "    </tr>\n",
       "    <tr>\n",
       "      <th id=\"T_bcd6b_level0_row4\" class=\"row_heading level0 row4\" >4</th>\n",
       "      <td id=\"T_bcd6b_row4_col0\" class=\"data row4 col0\" >0</td>\n",
       "      <td id=\"T_bcd6b_row4_col1\" class=\"data row4 col1\" >107</td>\n",
       "      <td id=\"T_bcd6b_row4_col2\" class=\"data row4 col2\" >253</td>\n",
       "      <td id=\"T_bcd6b_row4_col3\" class=\"data row4 col3\" >253</td>\n",
       "      <td id=\"T_bcd6b_row4_col4\" class=\"data row4 col4\" >230</td>\n",
       "      <td id=\"T_bcd6b_row4_col5\" class=\"data row4 col5\" >48</td>\n",
       "      <td id=\"T_bcd6b_row4_col6\" class=\"data row4 col6\" >0</td>\n",
       "      <td id=\"T_bcd6b_row4_col7\" class=\"data row4 col7\" >0</td>\n",
       "      <td id=\"T_bcd6b_row4_col8\" class=\"data row4 col8\" >0</td>\n",
       "      <td id=\"T_bcd6b_row4_col9\" class=\"data row4 col9\" >0</td>\n",
       "      <td id=\"T_bcd6b_row4_col10\" class=\"data row4 col10\" >0</td>\n",
       "      <td id=\"T_bcd6b_row4_col11\" class=\"data row4 col11\" >192</td>\n",
       "      <td id=\"T_bcd6b_row4_col12\" class=\"data row4 col12\" >253</td>\n",
       "      <td id=\"T_bcd6b_row4_col13\" class=\"data row4 col13\" >253</td>\n",
       "      <td id=\"T_bcd6b_row4_col14\" class=\"data row4 col14\" >156</td>\n",
       "      <td id=\"T_bcd6b_row4_col15\" class=\"data row4 col15\" >0</td>\n",
       "      <td id=\"T_bcd6b_row4_col16\" class=\"data row4 col16\" >0</td>\n",
       "      <td id=\"T_bcd6b_row4_col17\" class=\"data row4 col17\" >0</td>\n",
       "    </tr>\n",
       "    <tr>\n",
       "      <th id=\"T_bcd6b_level0_row5\" class=\"row_heading level0 row5\" >5</th>\n",
       "      <td id=\"T_bcd6b_row5_col0\" class=\"data row5 col0\" >0</td>\n",
       "      <td id=\"T_bcd6b_row5_col1\" class=\"data row5 col1\" >3</td>\n",
       "      <td id=\"T_bcd6b_row5_col2\" class=\"data row5 col2\" >20</td>\n",
       "      <td id=\"T_bcd6b_row5_col3\" class=\"data row5 col3\" >20</td>\n",
       "      <td id=\"T_bcd6b_row5_col4\" class=\"data row5 col4\" >15</td>\n",
       "      <td id=\"T_bcd6b_row5_col5\" class=\"data row5 col5\" >0</td>\n",
       "      <td id=\"T_bcd6b_row5_col6\" class=\"data row5 col6\" >0</td>\n",
       "      <td id=\"T_bcd6b_row5_col7\" class=\"data row5 col7\" >0</td>\n",
       "      <td id=\"T_bcd6b_row5_col8\" class=\"data row5 col8\" >0</td>\n",
       "      <td id=\"T_bcd6b_row5_col9\" class=\"data row5 col9\" >0</td>\n",
       "      <td id=\"T_bcd6b_row5_col10\" class=\"data row5 col10\" >43</td>\n",
       "      <td id=\"T_bcd6b_row5_col11\" class=\"data row5 col11\" >224</td>\n",
       "      <td id=\"T_bcd6b_row5_col12\" class=\"data row5 col12\" >253</td>\n",
       "      <td id=\"T_bcd6b_row5_col13\" class=\"data row5 col13\" >245</td>\n",
       "      <td id=\"T_bcd6b_row5_col14\" class=\"data row5 col14\" >74</td>\n",
       "      <td id=\"T_bcd6b_row5_col15\" class=\"data row5 col15\" >0</td>\n",
       "      <td id=\"T_bcd6b_row5_col16\" class=\"data row5 col16\" >0</td>\n",
       "      <td id=\"T_bcd6b_row5_col17\" class=\"data row5 col17\" >0</td>\n",
       "    </tr>\n",
       "    <tr>\n",
       "      <th id=\"T_bcd6b_level0_row6\" class=\"row_heading level0 row6\" >6</th>\n",
       "      <td id=\"T_bcd6b_row6_col0\" class=\"data row6 col0\" >0</td>\n",
       "      <td id=\"T_bcd6b_row6_col1\" class=\"data row6 col1\" >0</td>\n",
       "      <td id=\"T_bcd6b_row6_col2\" class=\"data row6 col2\" >0</td>\n",
       "      <td id=\"T_bcd6b_row6_col3\" class=\"data row6 col3\" >0</td>\n",
       "      <td id=\"T_bcd6b_row6_col4\" class=\"data row6 col4\" >0</td>\n",
       "      <td id=\"T_bcd6b_row6_col5\" class=\"data row6 col5\" >0</td>\n",
       "      <td id=\"T_bcd6b_row6_col6\" class=\"data row6 col6\" >0</td>\n",
       "      <td id=\"T_bcd6b_row6_col7\" class=\"data row6 col7\" >0</td>\n",
       "      <td id=\"T_bcd6b_row6_col8\" class=\"data row6 col8\" >0</td>\n",
       "      <td id=\"T_bcd6b_row6_col9\" class=\"data row6 col9\" >0</td>\n",
       "      <td id=\"T_bcd6b_row6_col10\" class=\"data row6 col10\" >249</td>\n",
       "      <td id=\"T_bcd6b_row6_col11\" class=\"data row6 col11\" >253</td>\n",
       "      <td id=\"T_bcd6b_row6_col12\" class=\"data row6 col12\" >245</td>\n",
       "      <td id=\"T_bcd6b_row6_col13\" class=\"data row6 col13\" >126</td>\n",
       "      <td id=\"T_bcd6b_row6_col14\" class=\"data row6 col14\" >0</td>\n",
       "      <td id=\"T_bcd6b_row6_col15\" class=\"data row6 col15\" >0</td>\n",
       "      <td id=\"T_bcd6b_row6_col16\" class=\"data row6 col16\" >0</td>\n",
       "      <td id=\"T_bcd6b_row6_col17\" class=\"data row6 col17\" >0</td>\n",
       "    </tr>\n",
       "    <tr>\n",
       "      <th id=\"T_bcd6b_level0_row7\" class=\"row_heading level0 row7\" >7</th>\n",
       "      <td id=\"T_bcd6b_row7_col0\" class=\"data row7 col0\" >0</td>\n",
       "      <td id=\"T_bcd6b_row7_col1\" class=\"data row7 col1\" >0</td>\n",
       "      <td id=\"T_bcd6b_row7_col2\" class=\"data row7 col2\" >0</td>\n",
       "      <td id=\"T_bcd6b_row7_col3\" class=\"data row7 col3\" >0</td>\n",
       "      <td id=\"T_bcd6b_row7_col4\" class=\"data row7 col4\" >0</td>\n",
       "      <td id=\"T_bcd6b_row7_col5\" class=\"data row7 col5\" >0</td>\n",
       "      <td id=\"T_bcd6b_row7_col6\" class=\"data row7 col6\" >0</td>\n",
       "      <td id=\"T_bcd6b_row7_col7\" class=\"data row7 col7\" >14</td>\n",
       "      <td id=\"T_bcd6b_row7_col8\" class=\"data row7 col8\" >101</td>\n",
       "      <td id=\"T_bcd6b_row7_col9\" class=\"data row7 col9\" >223</td>\n",
       "      <td id=\"T_bcd6b_row7_col10\" class=\"data row7 col10\" >253</td>\n",
       "      <td id=\"T_bcd6b_row7_col11\" class=\"data row7 col11\" >248</td>\n",
       "      <td id=\"T_bcd6b_row7_col12\" class=\"data row7 col12\" >124</td>\n",
       "      <td id=\"T_bcd6b_row7_col13\" class=\"data row7 col13\" >0</td>\n",
       "      <td id=\"T_bcd6b_row7_col14\" class=\"data row7 col14\" >0</td>\n",
       "      <td id=\"T_bcd6b_row7_col15\" class=\"data row7 col15\" >0</td>\n",
       "      <td id=\"T_bcd6b_row7_col16\" class=\"data row7 col16\" >0</td>\n",
       "      <td id=\"T_bcd6b_row7_col17\" class=\"data row7 col17\" >0</td>\n",
       "    </tr>\n",
       "    <tr>\n",
       "      <th id=\"T_bcd6b_level0_row8\" class=\"row_heading level0 row8\" >8</th>\n",
       "      <td id=\"T_bcd6b_row8_col0\" class=\"data row8 col0\" >0</td>\n",
       "      <td id=\"T_bcd6b_row8_col1\" class=\"data row8 col1\" >0</td>\n",
       "      <td id=\"T_bcd6b_row8_col2\" class=\"data row8 col2\" >0</td>\n",
       "      <td id=\"T_bcd6b_row8_col3\" class=\"data row8 col3\" >0</td>\n",
       "      <td id=\"T_bcd6b_row8_col4\" class=\"data row8 col4\" >0</td>\n",
       "      <td id=\"T_bcd6b_row8_col5\" class=\"data row8 col5\" >11</td>\n",
       "      <td id=\"T_bcd6b_row8_col6\" class=\"data row8 col6\" >166</td>\n",
       "      <td id=\"T_bcd6b_row8_col7\" class=\"data row8 col7\" >239</td>\n",
       "      <td id=\"T_bcd6b_row8_col8\" class=\"data row8 col8\" >253</td>\n",
       "      <td id=\"T_bcd6b_row8_col9\" class=\"data row8 col9\" >253</td>\n",
       "      <td id=\"T_bcd6b_row8_col10\" class=\"data row8 col10\" >253</td>\n",
       "      <td id=\"T_bcd6b_row8_col11\" class=\"data row8 col11\" >187</td>\n",
       "      <td id=\"T_bcd6b_row8_col12\" class=\"data row8 col12\" >30</td>\n",
       "      <td id=\"T_bcd6b_row8_col13\" class=\"data row8 col13\" >0</td>\n",
       "      <td id=\"T_bcd6b_row8_col14\" class=\"data row8 col14\" >0</td>\n",
       "      <td id=\"T_bcd6b_row8_col15\" class=\"data row8 col15\" >0</td>\n",
       "      <td id=\"T_bcd6b_row8_col16\" class=\"data row8 col16\" >0</td>\n",
       "      <td id=\"T_bcd6b_row8_col17\" class=\"data row8 col17\" >0</td>\n",
       "    </tr>\n",
       "    <tr>\n",
       "      <th id=\"T_bcd6b_level0_row9\" class=\"row_heading level0 row9\" >9</th>\n",
       "      <td id=\"T_bcd6b_row9_col0\" class=\"data row9 col0\" >0</td>\n",
       "      <td id=\"T_bcd6b_row9_col1\" class=\"data row9 col1\" >0</td>\n",
       "      <td id=\"T_bcd6b_row9_col2\" class=\"data row9 col2\" >0</td>\n",
       "      <td id=\"T_bcd6b_row9_col3\" class=\"data row9 col3\" >0</td>\n",
       "      <td id=\"T_bcd6b_row9_col4\" class=\"data row9 col4\" >0</td>\n",
       "      <td id=\"T_bcd6b_row9_col5\" class=\"data row9 col5\" >16</td>\n",
       "      <td id=\"T_bcd6b_row9_col6\" class=\"data row9 col6\" >248</td>\n",
       "      <td id=\"T_bcd6b_row9_col7\" class=\"data row9 col7\" >250</td>\n",
       "      <td id=\"T_bcd6b_row9_col8\" class=\"data row9 col8\" >253</td>\n",
       "      <td id=\"T_bcd6b_row9_col9\" class=\"data row9 col9\" >253</td>\n",
       "      <td id=\"T_bcd6b_row9_col10\" class=\"data row9 col10\" >253</td>\n",
       "      <td id=\"T_bcd6b_row9_col11\" class=\"data row9 col11\" >253</td>\n",
       "      <td id=\"T_bcd6b_row9_col12\" class=\"data row9 col12\" >232</td>\n",
       "      <td id=\"T_bcd6b_row9_col13\" class=\"data row9 col13\" >213</td>\n",
       "      <td id=\"T_bcd6b_row9_col14\" class=\"data row9 col14\" >111</td>\n",
       "      <td id=\"T_bcd6b_row9_col15\" class=\"data row9 col15\" >2</td>\n",
       "      <td id=\"T_bcd6b_row9_col16\" class=\"data row9 col16\" >0</td>\n",
       "      <td id=\"T_bcd6b_row9_col17\" class=\"data row9 col17\" >0</td>\n",
       "    </tr>\n",
       "    <tr>\n",
       "      <th id=\"T_bcd6b_level0_row10\" class=\"row_heading level0 row10\" >10</th>\n",
       "      <td id=\"T_bcd6b_row10_col0\" class=\"data row10 col0\" >0</td>\n",
       "      <td id=\"T_bcd6b_row10_col1\" class=\"data row10 col1\" >0</td>\n",
       "      <td id=\"T_bcd6b_row10_col2\" class=\"data row10 col2\" >0</td>\n",
       "      <td id=\"T_bcd6b_row10_col3\" class=\"data row10 col3\" >0</td>\n",
       "      <td id=\"T_bcd6b_row10_col4\" class=\"data row10 col4\" >0</td>\n",
       "      <td id=\"T_bcd6b_row10_col5\" class=\"data row10 col5\" >0</td>\n",
       "      <td id=\"T_bcd6b_row10_col6\" class=\"data row10 col6\" >0</td>\n",
       "      <td id=\"T_bcd6b_row10_col7\" class=\"data row10 col7\" >43</td>\n",
       "      <td id=\"T_bcd6b_row10_col8\" class=\"data row10 col8\" >98</td>\n",
       "      <td id=\"T_bcd6b_row10_col9\" class=\"data row10 col9\" >98</td>\n",
       "      <td id=\"T_bcd6b_row10_col10\" class=\"data row10 col10\" >208</td>\n",
       "      <td id=\"T_bcd6b_row10_col11\" class=\"data row10 col11\" >253</td>\n",
       "      <td id=\"T_bcd6b_row10_col12\" class=\"data row10 col12\" >253</td>\n",
       "      <td id=\"T_bcd6b_row10_col13\" class=\"data row10 col13\" >253</td>\n",
       "      <td id=\"T_bcd6b_row10_col14\" class=\"data row10 col14\" >253</td>\n",
       "      <td id=\"T_bcd6b_row10_col15\" class=\"data row10 col15\" >187</td>\n",
       "      <td id=\"T_bcd6b_row10_col16\" class=\"data row10 col16\" >22</td>\n",
       "      <td id=\"T_bcd6b_row10_col17\" class=\"data row10 col17\" >0</td>\n",
       "    </tr>\n",
       "  </tbody>\n",
       "</table>\n"
      ]
     },
     "execution_count": 3,
     "metadata": {},
     "output_type": "execute_result"
    }
   ],
   "execution_count": 3
  },
  {
   "cell_type": "code",
   "source": [
    "seven_tensors = [tensor(Image.open(o)) for o in sevens]\n",
    "three_tensors = [tensor(Image.open(o)) for o in threes]\n",
    "\n",
    "len(three_tensors), len(seven_tensors)"
   ],
   "metadata": {
    "collapsed": false,
    "ExecuteTime": {
     "end_time": "2024-09-19T05:19:55.723719Z",
     "start_time": "2024-09-19T05:19:26.145981Z"
    }
   },
   "id": "f7eeafdcfb577525",
   "outputs": [
    {
     "data": {
      "text/plain": [
       "(6131, 6265)"
      ]
     },
     "execution_count": 5,
     "metadata": {},
     "output_type": "execute_result"
    }
   ],
   "execution_count": 5
  },
  {
   "cell_type": "code",
   "source": [
    "show_image(three_tensors[1])\n",
    "print(three_tensors[1].shape)"
   ],
   "metadata": {
    "collapsed": false,
    "ExecuteTime": {
     "end_time": "2024-09-19T05:19:58.414022Z",
     "start_time": "2024-09-19T05:19:58.392056Z"
    }
   },
   "id": "2083f1b9157e8c5",
   "outputs": [
    {
     "name": "stdout",
     "output_type": "stream",
     "text": [
      "torch.Size([28, 28])\n"
     ]
    },
    {
     "data": {
      "text/plain": [
       "<Figure size 100x100 with 1 Axes>"
      ],
      "image/png": "[encoded data removed]"
     },
     "metadata": {},
     "output_type": "display_data"
    }
   ],
   "execution_count": 6
  },
  {
   "cell_type": "code",
   "source": [
    "stacked_sevens = torch.stack(seven_tensors).float()/255\n",
    "stacked_threes = torch.stack(three_tensors).float()/255\n",
    "stacked_threes.shape"
   ],
   "metadata": {
    "collapsed": false,
    "ExecuteTime": {
     "end_time": "2024-09-19T05:20:02.332163Z",
     "start_time": "2024-09-19T05:20:02.315470Z"
    }
   },
   "id": "98d7eb85f929ae94",
   "outputs": [
    {
     "data": {
      "text/plain": [
       "torch.Size([6131, 28, 28])"
      ]
     },
     "execution_count": 7,
     "metadata": {},
     "output_type": "execute_result"
    }
   ],
   "execution_count": 7
  },
  {
   "cell_type": "code",
   "source": [
    "mean3 = stacked_threes.mean(0)\n",
    "show_image(mean3)"
   ],
   "metadata": {
    "collapsed": false,
    "ExecuteTime": {
     "end_time": "2024-09-19T05:20:04.076996Z",
     "start_time": "2024-09-19T05:20:04.061722Z"
    }
   },
   "id": "511b6a684fc980f4",
   "outputs": [
    {
     "data": {
      "text/plain": [
       "<Axes: >"
      ]
     },
     "execution_count": 8,
     "metadata": {},
     "output_type": "execute_result"
    },
    {
     "data": {
      "text/plain": [
       "<Figure size 100x100 with 1 Axes>"
      ],
      "image/png": "[encoded data removed]"
     },
     "metadata": {},
     "output_type": "display_data"
    }
   ],
   "execution_count": 8
  },
  {
   "cell_type": "code",
   "source": [
    "mean7 = stacked_sevens.mean(0)\n",
    "show_image(mean7)"
   ],
   "metadata": {
    "collapsed": false,
    "ExecuteTime": {
     "end_time": "2024-09-19T05:20:20.123154Z",
     "start_time": "2024-09-19T05:20:20.109253Z"
    }
   },
   "id": "844d3ee96da6ec6c",
   "outputs": [
    {
     "data": {
      "text/plain": [
       "<Axes: >"
      ]
     },
     "execution_count": 9,
     "metadata": {},
     "output_type": "execute_result"
    },
    {
     "data": {
      "text/plain": [
       "<Figure size 100x100 with 1 Axes>"
      ],
      "image/png": "[encoded data removed]"
     },
     "metadata": {},
     "output_type": "display_data"
    }
   ],
   "execution_count": 9
  },
  {
   "cell_type": "code",
   "source": [
    "a_3 = stacked_threes[1]\n",
    "dist_3_abs = (a_3 - mean3).abs().mean()\n",
    "dist_3_sqr = ((a_3 - mean3)**2).mean().sqrt()\n",
    "dist_3_abs, dist_3_sqr"
   ],
   "metadata": {
    "collapsed": false,
    "ExecuteTime": {
     "end_time": "2024-09-19T05:20:48.311990Z",
     "start_time": "2024-09-19T05:20:48.297290Z"
    }
   },
   "id": "46483b7081de6c71",
   "outputs": [
    {
     "data": {
      "text/plain": [
       "(tensor(0.1114), tensor(0.2021))"
      ]
     },
     "execution_count": 10,
     "metadata": {},
     "output_type": "execute_result"
    }
   ],
   "execution_count": 10
  },
  {
   "cell_type": "code",
   "source": [
    "a_7 = stacked_sevens[1]\n",
    "dist_7_abs = (a_7 - mean7).abs().mean()\n",
    "dist_7_sqr = ((a_7 - mean7)**2).mean().sqrt()\n",
    "dist_7_abs, dist_7_sqr"
   ],
   "metadata": {
    "collapsed": false,
    "ExecuteTime": {
     "end_time": "2024-09-19T05:20:56.496266Z",
     "start_time": "2024-09-19T05:20:56.481231Z"
    }
   },
   "id": "6e259ebfa56ff70e",
   "outputs": [
    {
     "data": {
      "text/plain": [
       "(tensor(0.1304), tensor(0.2585))"
      ]
     },
     "execution_count": 11,
     "metadata": {},
     "output_type": "execute_result"
    }
   ],
   "execution_count": 11
  },
  {
   "cell_type": "code",
   "source": [
    "# torch里有这俩函数。\n",
    "import torch.nn.functional as F\n",
    "dist_3_l1 = F.l1_loss(a_3, mean3)\n",
    "dist_3_l2 = F.mse_loss(a_3, mean3).sqrt()\n",
    "dist_7_l1 = F.l1_loss(a_7, mean7)\n",
    "dist_7_l2 = F.mse_loss(a_7, mean7).sqrt()\n",
    "dist_3_l1,dist_3_l2,dist_7_l1, dist_7_l2"
   ],
   "metadata": {
    "collapsed": false,
    "ExecuteTime": {
     "end_time": "2024-09-19T05:21:00.590792Z",
     "start_time": "2024-09-19T05:21:00.577338Z"
    }
   },
   "id": "383e193efab6a835",
   "outputs": [
    {
     "data": {
      "text/plain": [
       "(tensor(0.1114), tensor(0.2021), tensor(0.1304), tensor(0.2585))"
      ]
     },
     "execution_count": 12,
     "metadata": {},
     "output_type": "execute_result"
    }
   ],
   "execution_count": 12
  },
  {
   "cell_type": "code",
   "source": [
    "valid_3_tens = torch.stack([tensor(Image.open(o)) for o in (path/'valid'/'3').ls()])\n",
    "valid_3_tens = valid_3_tens.float()/255\n",
    "\n",
    "valid_7_tens = torch.stack([tensor(Image.open(o)) for o in (path/'valid'/'7').ls()])\n",
    "valid_7_tens = valid_7_tens.float()/255\n",
    "\n",
    "valid_3_tens.shape, valid_7_tens.shape"
   ],
   "metadata": {
    "collapsed": false,
    "ExecuteTime": {
     "end_time": "2024-09-19T05:21:15.853497Z",
     "start_time": "2024-09-19T05:21:11.284831Z"
    }
   },
   "id": "3e762f962b4c7cf2",
   "outputs": [
    {
     "data": {
      "text/plain": [
       "(torch.Size([1010, 28, 28]), torch.Size([1028, 28, 28]))"
      ]
     },
     "execution_count": 13,
     "metadata": {},
     "output_type": "execute_result"
    }
   ],
   "execution_count": 13
  },
  {
   "cell_type": "code",
   "source": [
    "def mnist_distance(a,b):\n",
    "    return (a-b).abs().mean((-1,-2))\n",
    "\n",
    "mnist_distance(a_3, mean3), mnist_distance(a_3, mean7)\n"
   ],
   "metadata": {
    "collapsed": false,
    "ExecuteTime": {
     "end_time": "2024-09-19T05:21:39.421957Z",
     "start_time": "2024-09-19T05:21:39.409789Z"
    }
   },
   "id": "28d3104f70e47ca4",
   "outputs": [
    {
     "data": {
      "text/plain": [
       "(tensor(0.1114), tensor(0.1586))"
      ]
     },
     "execution_count": 14,
     "metadata": {},
     "output_type": "execute_result"
    }
   ],
   "execution_count": 14
  },
  {
   "cell_type": "code",
   "source": [
    "def is_3(x):\n",
    "    return mnist_distance(x, mean3) < mnist_distance(x, mean7)\n",
    "\n",
    "is_3(a_3), is_3(a_7)"
   ],
   "metadata": {
    "collapsed": false,
    "ExecuteTime": {
     "end_time": "2024-09-19T05:21:46.479862Z",
     "start_time": "2024-09-19T05:21:46.464871Z"
    }
   },
   "id": "3b3550b2f9df3061",
   "outputs": [
    {
     "data": {
      "text/plain": [
       "(tensor(True), tensor(False))"
      ]
     },
     "execution_count": 15,
     "metadata": {},
     "output_type": "execute_result"
    }
   ],
   "execution_count": 15
  },
  {
   "cell_type": "code",
   "source": [
    "accuracy_3s = is_3(valid_3_tens).float().mean()\n",
    "accuracy_7s = (1-is_3(valid_7_tens).float()).mean()\n",
    "\n",
    "accuracy_3s, accuracy_7s, (accuracy_3s + accuracy_7s)/2"
   ],
   "metadata": {
    "collapsed": false,
    "ExecuteTime": {
     "end_time": "2024-09-19T05:21:48.001228Z",
     "start_time": "2024-09-19T05:21:47.986003Z"
    }
   },
   "id": "7fc08399e25ad269",
   "outputs": [
    {
     "data": {
      "text/plain": [
       "(tensor(0.9168), tensor(0.9854), tensor(0.9511))"
      ]
     },
     "execution_count": 16,
     "metadata": {},
     "output_type": "execute_result"
    }
   ],
   "execution_count": 16
  },
  {
   "cell_type": "code",
   "source": [
    "def plot_function(f, xlab='x', ylab='y', title=None, min=-2, max=2):\n",
    "    xs = torch.linspace(min, max,200)\n",
    "    ys = f(xs)\n",
    "    if title:\n",
    "        plt.title(title)\n",
    "    plt.plot(xs, ys, label=f.__name__)\n",
    "    plt.xlabel(xlab)\n",
    "    plt.ylabel(ylab)\n",
    "    plt.legend()\n",
    "    plt.grid()\n",
    "    \n",
    "def f(x):\n",
    "    return x**2\n",
    "\n",
    "plot_function(f, 'x', 'x**2')"
   ],
   "metadata": {
    "collapsed": false,
    "ExecuteTime": {
     "end_time": "2024-09-19T05:21:54.875432Z",
     "start_time": "2024-09-19T05:21:54.793695Z"
    }
   },
   "id": "3d4c67aa97727fa",
   "outputs": [
    {
     "data": {
      "text/plain": [
       "<Figure size 640x480 with 1 Axes>"
      ],
      "image/png": "[encoded data removed]"
     },
     "metadata": {},
     "output_type": "display_data"
    }
   ],
   "execution_count": 17
  },
  {
   "cell_type": "code",
   "source": [
    "plot_function(f, 'x', 'x**2')\n",
    "plt.scatter(-1.5, f(-1.5), color='red')"
   ],
   "metadata": {
    "collapsed": false,
    "ExecuteTime": {
     "end_time": "2024-09-19T05:22:00.171933Z",
     "start_time": "2024-09-19T05:22:00.089677Z"
    }
   },
   "id": "fc06c53a84d0ee2",
   "outputs": [
    {
     "data": {
      "text/plain": [
       "<matplotlib.collections.PathCollection at 0x1d6ae76f8d0>"
      ]
     },
     "execution_count": 18,
     "metadata": {},
     "output_type": "execute_result"
    },
    {
     "data": {
      "text/plain": [
       "<Figure size 640x480 with 1 Axes>"
      ],
      "image/png": "[encoded data removed]"
     },
     "metadata": {},
     "output_type": "display_data"
    }
   ],
   "execution_count": 18
  },
  {
   "metadata": {},
   "cell_type": "markdown",
   "source": "## 初识tensor和torch",
   "id": "dc34a41c8530f2c9"
  },
  {
   "cell_type": "code",
   "source": [
    "xt = tensor([3., 4., 5.]).requires_grad_()\n",
    "def f(x):\n",
    "    return (x**2).sum()\n",
    "yt = f(xt)\n",
    "yt"
   ],
   "metadata": {
    "collapsed": false,
    "ExecuteTime": {
     "end_time": "2024-09-19T05:22:52.323977Z",
     "start_time": "2024-09-19T05:22:52.305958Z"
    }
   },
   "id": "1af0abd4de6408ab",
   "outputs": [
    {
     "data": {
      "text/plain": [
       "tensor(50., grad_fn=<SumBackward0>)"
      ]
     },
     "execution_count": 19,
     "metadata": {},
     "output_type": "execute_result"
    }
   ],
   "execution_count": 19
  },
  {
   "cell_type": "code",
   "source": [
    "yt.backward()\n",
    "xt.grad"
   ],
   "metadata": {
    "collapsed": false,
    "ExecuteTime": {
     "end_time": "2024-09-19T05:23:11.598232Z",
     "start_time": "2024-09-19T05:23:11.594719Z"
    }
   },
   "id": "8da3755ef580813d",
   "outputs": [
    {
     "data": {
      "text/plain": [
       "tensor([ 6.,  8., 10.])"
      ]
     },
     "execution_count": 20,
     "metadata": {},
     "output_type": "execute_result"
    }
   ],
   "execution_count": 20
  },
  {
   "cell_type": "code",
   "source": [
    "time = torch.arange(0,20).float()\n",
    "time"
   ],
   "metadata": {
    "collapsed": false,
    "ExecuteTime": {
     "end_time": "2024-09-19T05:24:35.638535Z",
     "start_time": "2024-09-19T05:24:35.634004Z"
    }
   },
   "id": "e9d2c32a64058d33",
   "outputs": [
    {
     "data": {
      "text/plain": [
       "tensor([ 0.,  1.,  2.,  3.,  4.,  5.,  6.,  7.,  8.,  9., 10., 11., 12., 13.,\n",
       "        14., 15., 16., 17., 18., 19.])"
      ]
     },
     "execution_count": 22,
     "metadata": {},
     "output_type": "execute_result"
    }
   ],
   "execution_count": 22
  },
  {
   "cell_type": "code",
   "source": [
    "speed = torch.randn(20)*3 + 0.75*(time-9.5)**2 + 1\n",
    "plt.scatter(time, speed)"
   ],
   "metadata": {
    "collapsed": false,
    "ExecuteTime": {
     "end_time": "2024-09-19T05:24:37.322954Z",
     "start_time": "2024-09-19T05:24:37.257692Z"
    }
   },
   "id": "ccadc1cbaa1d35ee",
   "outputs": [
    {
     "data": {
      "text/plain": [
       "<matplotlib.collections.PathCollection at 0x1d6aef735d0>"
      ]
     },
     "execution_count": 23,
     "metadata": {},
     "output_type": "execute_result"
    },
    {
     "data": {
      "text/plain": [
       "<Figure size 640x480 with 1 Axes>"
      ],
      "image/png": "[encoded data removed]"
     },
     "metadata": {},
     "output_type": "display_data"
    }
   ],
   "execution_count": 23
  },
  {
   "cell_type": "code",
   "source": [
    "def f(t, params):\n",
    "    a, b, c = params\n",
    "    return a*t**2 + b*t + c\n",
    "\n",
    "def mse(preds, targets):\n",
    "    return ((preds-targets)**2).mean()"
   ],
   "metadata": {
    "collapsed": false,
    "ExecuteTime": {
     "end_time": "2024-09-19T05:24:47.068530Z",
     "start_time": "2024-09-19T05:24:47.057464Z"
    }
   },
   "id": "4fcfdbadf2b3145a",
   "outputs": [],
   "execution_count": 24
  },
  {
   "cell_type": "code",
   "source": [
    "params = torch.randn(3).requires_grad_()\n",
    "preds = f(time, params)\n",
    "\n",
    "def show_preds(preds, ax=None):\n",
    "    if ax is None:\n",
    "        ax = plt.subplots()[1]\n",
    "    ax.scatter(time, speed, label='label')\n",
    "    ax.scatter(time, to_np(preds), color='red', label='preds')\n",
    "    ax.legend()\n",
    "\n",
    "show_preds(preds)"
   ],
   "metadata": {
    "collapsed": false,
    "ExecuteTime": {
     "end_time": "2024-09-19T05:27:54.871968Z",
     "start_time": "2024-09-19T05:27:54.793426Z"
    }
   },
   "id": "f30d8a36175c5dcf",
   "outputs": [
    {
     "data": {
      "text/plain": [
       "<Figure size 640x480 with 1 Axes>"
      ],
      "image/png": "[encoded data removed]"
     },
     "metadata": {},
     "output_type": "display_data"
    }
   ],
   "execution_count": 59
  },
  {
   "cell_type": "code",
   "source": [
    "loss = mse(preds, speed)\n",
    "loss"
   ],
   "metadata": {
    "collapsed": false,
    "ExecuteTime": {
     "end_time": "2024-09-19T05:27:57.749641Z",
     "start_time": "2024-09-19T05:27:57.738441Z"
    }
   },
   "id": "5e3f3ae701c7b9c6",
   "outputs": [
    {
     "data": {
      "text/plain": [
       "tensor(54724.2695, grad_fn=<MeanBackward0>)"
      ]
     },
     "execution_count": 60,
     "metadata": {},
     "output_type": "execute_result"
    }
   ],
   "execution_count": 60
  },
  {
   "cell_type": "code",
   "source": [
    "loss.backward()\n",
    "params.grad * 1e-5"
   ],
   "metadata": {
    "collapsed": false,
    "ExecuteTime": {
     "end_time": "2024-09-19T05:27:15.581834Z",
     "start_time": "2024-09-19T05:27:15.571147Z"
    }
   },
   "id": "bce67ac030e5a47e",
   "outputs": [
    {
     "data": {
      "text/plain": [
       "tensor([0.6859, 0.0439, 0.0028])"
      ]
     },
     "execution_count": 47,
     "metadata": {},
     "output_type": "execute_result"
    }
   ],
   "execution_count": 47
  },
  {
   "cell_type": "code",
   "source": [
    "lr = 1e-5\n",
    "params.data -= lr * params.grad.data\n",
    "params.grad = None"
   ],
   "metadata": {
    "collapsed": false,
    "ExecuteTime": {
     "end_time": "2024-09-19T05:27:17.644864Z",
     "start_time": "2024-09-19T05:27:17.632844Z"
    }
   },
   "id": "743241fe826d842f",
   "outputs": [],
   "execution_count": 48
  },
  {
   "cell_type": "code",
   "source": [
    "preds = f(time, params)\n",
    "loss = mse(preds, speed)\n",
    "print(loss)\n",
    "show_preds(preds)"
   ],
   "metadata": {
    "collapsed": false,
    "ExecuteTime": {
     "end_time": "2024-09-19T05:27:19.546573Z",
     "start_time": "2024-09-19T05:27:19.465557Z"
    }
   },
   "id": "c73f61ac9c692c41",
   "outputs": [
    {
     "name": "stdout",
     "output_type": "stream",
     "text": [
      "tensor(8532.2402, grad_fn=<MeanBackward0>)\n"
     ]
    },
    {
     "data": {
      "text/plain": [
       "<Figure size 640x480 with 1 Axes>"
      ],
      "image/png": "[encoded data removed]"
     },
     "metadata": {},
     "output_type": "display_data"
    }
   ],
   "execution_count": 49
  },
  {
   "cell_type": "code",
   "source": [
    "def apply_step(params, prn=True):\n",
    "    preds = f(time, params)\n",
    "    loss = mse(preds, speed)\n",
    "    loss.backward()\n",
    "    params.data -= lr*params.grad.data\n",
    "    params.grad = None\n",
    "    if prn:\n",
    "        print(loss.item())\n",
    "    return preds\n",
    "\n",
    "for i in range(100):\n",
    "    apply_step(params, prn=False)\n"
   ],
   "metadata": {
    "collapsed": false,
    "ExecuteTime": {
     "end_time": "2024-09-19T05:27:42.043705Z",
     "start_time": "2024-09-19T05:27:42.027574Z"
    }
   },
   "id": "123418d48845042b",
   "outputs": [],
   "execution_count": 52
  },
  {
   "cell_type": "code",
   "source": [
    "_, axs = plt.subplots(1,4, figsize=(12,3))\n",
    "for ax in axs:\n",
    "    show_preds(apply_step(params, False), ax)\n",
    "plt.tight_layout()"
   ],
   "metadata": {
    "collapsed": false,
    "ExecuteTime": {
     "end_time": "2024-09-19T05:28:41.452212Z",
     "start_time": "2024-09-19T05:28:41.185174Z"
    }
   },
   "id": "2fc8368e66b2e98e",
   "outputs": [
    {
     "data": {
      "text/plain": [
       "<Figure size 1200x300 with 4 Axes>"
      ],
      "image/png": "[encoded data removed]"
     },
     "metadata": {},
     "output_type": "display_data"
    }
   ],
   "execution_count": 86
  },
  {
   "cell_type": "code",
   "source": [
    "train_x = torch.cat([stacked_threes, stacked_sevens]).view(-1, 28*28)\n",
    "train_y = tensor([1]*len(threes) + [0]*len(sevens)).unsqueeze(1)\n",
    "\n",
    "train_x.shape, train_y.shape"
   ],
   "metadata": {
    "collapsed": false,
    "ExecuteTime": {
     "end_time": "2024-09-19T05:28:50.539885Z",
     "start_time": "2024-09-19T05:28:50.520915Z"
    }
   },
   "id": "648943c6af55b734",
   "outputs": [
    {
     "data": {
      "text/plain": [
       "(torch.Size([12396, 784]), torch.Size([12396, 1]))"
      ]
     },
     "execution_count": 87,
     "metadata": {},
     "output_type": "execute_result"
    }
   ],
   "execution_count": 87
  },
  {
   "cell_type": "code",
   "source": [
    "dset = list(zip(train_x, train_y))\n",
    "\n",
    "x, y = dset[0]\n",
    "x.shape, y"
   ],
   "metadata": {
    "collapsed": false,
    "ExecuteTime": {
     "end_time": "2024-09-19T05:29:09.500846Z",
     "start_time": "2024-09-19T05:29:09.354510Z"
    }
   },
   "id": "e72b595437d6eace",
   "outputs": [
    {
     "data": {
      "text/plain": [
       "(torch.Size([784]), tensor([1]))"
      ]
     },
     "execution_count": 88,
     "metadata": {},
     "output_type": "execute_result"
    }
   ],
   "execution_count": 88
  },
  {
   "cell_type": "code",
   "source": [
    "valid_x = torch.cat([valid_3_tens, valid_7_tens]).view(-1, 28*28)\n",
    "valid_y = tensor([1]*len(valid_3_tens) + [0]*len(valid_7_tens)).unsqueeze(1)\n",
    "\n",
    "valid_dset = list(zip(valid_x, valid_y))\n",
    "x, y = valid_dset[0]\n",
    "x.shape, y"
   ],
   "metadata": {
    "collapsed": false,
    "ExecuteTime": {
     "end_time": "2024-09-19T05:31:18.067642Z",
     "start_time": "2024-09-19T05:31:18.049141Z"
    }
   },
   "id": "57be6b00fc5a1993",
   "outputs": [
    {
     "data": {
      "text/plain": [
       "(torch.Size([784]), tensor([1]))"
      ]
     },
     "execution_count": 89,
     "metadata": {},
     "output_type": "execute_result"
    }
   ],
   "execution_count": 89
  },
  {
   "cell_type": "code",
   "source": [
    "def init_params(size, std=1.0):\n",
    "    return (torch.randn(size) * std).requires_grad_()\n",
    "\n",
    "weights = init_params((28*28, 1))\n",
    "bias = init_params(1)\n",
    "\n",
    "weights.shape, bias.shape"
   ],
   "metadata": {
    "collapsed": false,
    "ExecuteTime": {
     "end_time": "2024-09-19T05:31:25.029596Z",
     "start_time": "2024-09-19T05:31:25.023556Z"
    }
   },
   "id": "2322d210ea3362ee",
   "outputs": [
    {
     "data": {
      "text/plain": [
       "(torch.Size([784, 1]), torch.Size([1]))"
      ]
     },
     "execution_count": 90,
     "metadata": {},
     "output_type": "execute_result"
    }
   ],
   "execution_count": 90
  },
  {
   "cell_type": "code",
   "source": [
    "print(x @ weights + bias)\n",
    "print((x * weights.T + bias).sum())"
   ],
   "metadata": {
    "collapsed": false,
    "ExecuteTime": {
     "end_time": "2024-09-19T05:31:30.878799Z",
     "start_time": "2024-09-19T05:31:30.867158Z"
    }
   },
   "id": "f7ae08c7927d41f4",
   "outputs": [
    {
     "name": "stdout",
     "output_type": "stream",
     "text": [
      "tensor([13.3990], grad_fn=<AddBackward0>)\n",
      "tensor(-1044.1909, grad_fn=<SumBackward0>)\n"
     ]
    }
   ],
   "execution_count": 91
  },
  {
   "cell_type": "code",
   "source": [
    "def linear1(xb):\n",
    "    return xb @ weights + bias\n",
    "preds = linear1(train_x)\n",
    "preds.shape"
   ],
   "metadata": {
    "collapsed": false,
    "ExecuteTime": {
     "end_time": "2024-09-19T05:31:39.599460Z",
     "start_time": "2024-09-19T05:31:39.585919Z"
    }
   },
   "id": "c6da3169e13e4c15",
   "outputs": [
    {
     "data": {
      "text/plain": [
       "torch.Size([12396, 1])"
      ]
     },
     "execution_count": 92,
     "metadata": {},
     "output_type": "execute_result"
    }
   ],
   "execution_count": 92
  },
  {
   "cell_type": "code",
   "source": [
    "corrects = (preds > 0.0).float() == train_y\n",
    "corrects.float().mean().item()"
   ],
   "metadata": {
    "collapsed": false,
    "ExecuteTime": {
     "end_time": "2024-09-19T05:31:43.924319Z",
     "start_time": "2024-09-19T05:31:43.912989Z"
    }
   },
   "id": "ec70a4674d292049",
   "outputs": [
    {
     "data": {
      "text/plain": [
       "0.4968538284301758"
      ]
     },
     "execution_count": 93,
     "metadata": {},
     "output_type": "execute_result"
    }
   ],
   "execution_count": 93
  },
  {
   "cell_type": "code",
   "source": [
    "weights.data[0:100] *= -10\n",
    "preds = linear1(train_x)\n",
    "((preds>0.0).float() == train_y).float().mean().item()"
   ],
   "metadata": {
    "collapsed": false,
    "ExecuteTime": {
     "end_time": "2024-09-19T05:31:58.578553Z",
     "start_time": "2024-09-19T05:31:58.560929Z"
    }
   },
   "id": "c5ffd9f5006e90f1",
   "outputs": [
    {
     "data": {
      "text/plain": [
       "0.4909648299217224"
      ]
     },
     "execution_count": 95,
     "metadata": {},
     "output_type": "execute_result"
    }
   ],
   "execution_count": 95
  },
  {
   "cell_type": "code",
   "source": [
    "def mnist_loss(predictions, targets):\n",
    "    return torch.where(targets==1, 1 - predictions, predictions).float().mean()\n",
    "\n",
    "targets = tensor([1,0,1])\n",
    "preds = tensor([0.9, 0.4, 0.2])\n",
    "\n",
    "print(torch.where(targets==1, 1-preds, preds))\n",
    "print(mnist_loss(preds, targets))\n",
    "      "
   ],
   "metadata": {
    "collapsed": false,
    "ExecuteTime": {
     "end_time": "2024-09-19T05:32:03.565774Z",
     "start_time": "2024-09-19T05:32:03.553404Z"
    }
   },
   "id": "edecb5213ecf69fa",
   "outputs": [
    {
     "name": "stdout",
     "output_type": "stream",
     "text": [
      "tensor([0.1000, 0.4000, 0.8000])\n",
      "tensor(0.4333)\n"
     ]
    }
   ],
   "execution_count": 96
  },
  {
   "cell_type": "code",
   "source": [
    "def sigmoid(x):\n",
    "    return 1/(1+torch.exp(-x))\n",
    "\n",
    "plot_function(torch.sigmoid, title='Sigmoid', min=-4, max=4)"
   ],
   "metadata": {
    "collapsed": false,
    "ExecuteTime": {
     "end_time": "2024-09-19T05:32:14.033427Z",
     "start_time": "2024-09-19T05:32:13.952112Z"
    }
   },
   "id": "96eefb10d8dbcbd0",
   "outputs": [
    {
     "data": {
      "text/plain": [
       "<Figure size 640x480 with 1 Axes>"
      ],
      "image/png": "[encoded data removed]"
     },
     "metadata": {},
     "output_type": "display_data"
    }
   ],
   "execution_count": 97
  },
  {
   "cell_type": "code",
   "source": [
    "dl = DataLoader(dset, batch_size=256, shuffle=True)\n",
    "valid_dl = DataLoader(valid_dset, batch_size=256)"
   ],
   "metadata": {
    "collapsed": false,
    "ExecuteTime": {
     "end_time": "2024-09-19T05:32:16.632622Z",
     "start_time": "2024-09-19T05:32:16.617544Z"
    }
   },
   "id": "2565896275559f44",
   "outputs": [],
   "execution_count": 98
  },
  {
   "cell_type": "code",
   "source": [
    "def mnist_loss(preds, labels):\n",
    "    preds = sigmoid(preds)\n",
    "    loss = torch.where(labels==1, 1-preds, preds).mean()\n",
    "    return loss\n",
    "\n",
    "def linear1(xb):\n",
    "    return xb @ weights + bias"
   ],
   "metadata": {
    "collapsed": false,
    "ExecuteTime": {
     "end_time": "2024-09-19T05:32:22.209852Z",
     "start_time": "2024-09-19T05:32:22.200738Z"
    }
   },
   "id": "4cd99c8045545cf9",
   "outputs": [],
   "execution_count": 99
  },
  {
   "cell_type": "code",
   "source": [
    "def calc_grad(xb, yb, model):\n",
    "    preds = model(xb)\n",
    "    loss = mnist_loss(preds, yb)\n",
    "    loss.backward()\n",
    "    \n",
    "    \n",
    "def train_epoch(model, lr, params):\n",
    "    for xb, yb in dl:\n",
    "        calc_grad(xb, yb, model)\n",
    "        for p in params:\n",
    "            p.data -= p.grad * lr\n",
    "            p.grad.zero_()"
   ],
   "metadata": {
    "collapsed": false,
    "ExecuteTime": {
     "end_time": "2024-09-19T05:32:36.683848Z",
     "start_time": "2024-09-19T05:32:36.678682Z"
    }
   },
   "id": "7e51fc8be9cad512",
   "outputs": [],
   "execution_count": 100
  },
  {
   "cell_type": "code",
   "source": [
    "\n",
    "def batch_accuracy(xb, yb):\n",
    "    preds = xb.sigmoid()\n",
    "    correct = (preds>0.5) == yb\n",
    "    return correct.float().mean()\n",
    "\n",
    "\n",
    "def validate_epoch(model):\n",
    "    accs = [batch_accuracy(model(xb), yb) for xb, yb in valid_dl]\n",
    "    return round(torch.stack(accs).mean().item(), 4)\n",
    "\n",
    "weights = init_params((28*28, 1))\n",
    "bias = init_params(1)\n",
    "lr = 1.\n",
    "params = weights, bias\n",
    "\n",
    "for _ in range(20):\n",
    "    train_epoch(linear1, lr, params)\n",
    "    print(validate_epoch(linear1), end=' ')\n"
   ],
   "metadata": {
    "collapsed": false,
    "ExecuteTime": {
     "end_time": "2024-09-19T05:32:40.236045Z",
     "start_time": "2024-09-19T05:32:39.496947Z"
    }
   },
   "id": "f0c1472409dcc2fb",
   "outputs": [
    {
     "name": "stdout",
     "output_type": "stream",
     "text": [
      "0.9065 0.9383 0.9486 0.9554 0.9598 0.9623 0.9638 0.9657 0.9662 0.9677 0.9696 0.9706 0.9706 0.9711 0.9721 0.9721 0.974 0.974 0.9745 0.9745 "
     ]
    }
   ],
   "execution_count": 101
  },
  {
   "cell_type": "code",
   "source": [
    "linear_model = nn.Linear(28*28, 1)\n",
    "w, b = linear_model.parameters()\n",
    "w.shape, b.shape"
   ],
   "metadata": {
    "collapsed": false,
    "ExecuteTime": {
     "end_time": "2024-09-19T05:32:43.772951Z",
     "start_time": "2024-09-19T05:32:43.761983Z"
    }
   },
   "id": "24be28014246b12e",
   "outputs": [
    {
     "data": {
      "text/plain": [
       "(torch.Size([1, 784]), torch.Size([1]))"
      ]
     },
     "execution_count": 102,
     "metadata": {},
     "output_type": "execute_result"
    }
   ],
   "execution_count": 102
  },
  {
   "cell_type": "code",
   "source": [
    "class BasicOptim:\n",
    "    def __init__(self, params, lr):\n",
    "        self.params = list(params)\n",
    "        self.lr = lr\n",
    "    \n",
    "    def step(self, *args, **kwargs):\n",
    "        for p in self.params:\n",
    "            p.data -= p.grad.data * self.lr\n",
    "\n",
    "    def zero_grad(self, *args, **kwargs):\n",
    "        for p in self.params:\n",
    "            p.grad.zero_()\n",
    "            \n",
    "opt = BasicOptim(linear_model.parameters(), lr)\n"
   ],
   "metadata": {
    "collapsed": false,
    "ExecuteTime": {
     "end_time": "2024-09-19T05:32:48.059469Z",
     "start_time": "2024-09-19T05:32:48.048868Z"
    }
   },
   "id": "90225480b073c11c",
   "outputs": [],
   "execution_count": 103
  },
  {
   "cell_type": "code",
   "source": [
    "def train_epoch(model):\n",
    "    for xb, yb in dl:\n",
    "        preds = model(xb)\n",
    "        loss = mnist_loss(preds, yb)\n",
    "        loss.backward()\n",
    "        opt.step()\n",
    "        opt.zero_grad()"
   ],
   "metadata": {
    "collapsed": false,
    "ExecuteTime": {
     "end_time": "2024-09-19T05:32:52.227279Z",
     "start_time": "2024-09-19T05:32:52.224241Z"
    }
   },
   "id": "114621aa4e8f369c",
   "outputs": [],
   "execution_count": 104
  },
  {
   "cell_type": "code",
   "source": [
    "def train_model(model, n_epochs):\n",
    "    for _ in range(n_epochs):\n",
    "        train_epoch(model)\n",
    "        print(validate_epoch(model), end=' ')\n",
    "\n",
    "train_model(linear_model, 20)"
   ],
   "metadata": {
    "collapsed": false,
    "ExecuteTime": {
     "end_time": "2024-09-19T05:32:54.824114Z",
     "start_time": "2024-09-19T05:32:54.064525Z"
    }
   },
   "id": "943f6558256209c5",
   "outputs": [
    {
     "name": "stdout",
     "output_type": "stream",
     "text": [
      "0.9726 0.975 0.977 0.9765 0.977 0.977 0.979 0.9795 0.9785 0.9795 0.9809 0.9814 0.9809 0.9814 0.9819 0.9814 0.9824 0.9814 0.9829 0.9819 "
     ]
    }
   ],
   "execution_count": 105
  },
  {
   "cell_type": "code",
   "source": [
    "# fastai\n",
    "linear_model = nn.Linear(28*28, 1)\n",
    "opt = SGD(linear_model.parameters(), lr)\n",
    "train_model(linear_model,20)"
   ],
   "metadata": {
    "collapsed": false,
    "ExecuteTime": {
     "end_time": "2024-09-19T05:32:57.133787Z",
     "start_time": "2024-09-19T05:32:56.337238Z"
    }
   },
   "id": "f7d7bd109e2086ef",
   "outputs": [
    {
     "name": "stdout",
     "output_type": "stream",
     "text": [
      "0.9696 0.9755 0.9765 0.9785 0.9785 0.978 0.979 0.979 0.9795 0.9799 0.9795 0.9795 0.9804 0.9809 0.9814 0.9824 0.9824 0.9824 0.9824 0.9824 "
     ]
    }
   ],
   "execution_count": 106
  },
  {
   "cell_type": "code",
   "source": [
    "dls = DataLoaders(dl, valid_dl)\n",
    "learn = Learner(dls, nn.Linear(28*28,1), opt_func=SGD, loss_func=mnist_loss, metrics=batch_accuracy)"
   ],
   "metadata": {
    "collapsed": false,
    "ExecuteTime": {
     "end_time": "2024-09-19T05:32:58.770945Z",
     "start_time": "2024-09-19T05:32:58.760853Z"
    }
   },
   "id": "57d260a7ed6c8312",
   "outputs": [],
   "execution_count": 107
  },
  {
   "cell_type": "code",
   "source": [
    "learn.fit(10, lr=lr)"
   ],
   "metadata": {
    "collapsed": false,
    "ExecuteTime": {
     "end_time": "2024-09-19T05:33:01.908574Z",
     "start_time": "2024-09-19T05:33:01.053734Z"
    }
   },
   "id": "b0e6c90d3187d094",
   "outputs": [
    {
     "data": {
      "text/plain": [
       "<IPython.core.display.HTML object>"
      ],
      "text/html": [
       "\n",
       "<style>\n",
       "    /* Turns off some styling */\n",
       "    progress {\n",
       "        /* gets rid of default border in Firefox and Opera. */\n",
       "        border: none;\n",
       "        /* Needs to be in here for Safari polyfill so background images work as expected. */\n",
       "        background-size: auto;\n",
       "    }\n",
       "    progress:not([value]), progress:not([value])::-webkit-progress-bar {\n",
       "        background: repeating-linear-gradient(45deg, #7e7e7e, #7e7e7e 10px, #5c5c5c 10px, #5c5c5c 20px);\n",
       "    }\n",
       "    .progress-bar-interrupted, .progress-bar-interrupted::-webkit-progress-bar {\n",
       "        background: #F44336;\n",
       "    }\n",
       "</style>\n"
      ]
     },
     "metadata": {},
     "output_type": "display_data"
    },
    {
     "data": {
      "text/plain": [
       "<IPython.core.display.HTML object>"
      ],
      "text/html": [
       "<table border=\"1\" class=\"dataframe\">\n",
       "  <thead>\n",
       "    <tr style=\"text-align: left;\">\n",
       "      <th>epoch</th>\n",
       "      <th>train_loss</th>\n",
       "      <th>valid_loss</th>\n",
       "      <th>batch_accuracy</th>\n",
       "      <th>time</th>\n",
       "    </tr>\n",
       "  </thead>\n",
       "  <tbody>\n",
       "    <tr>\n",
       "      <td>0</td>\n",
       "      <td>0.057521</td>\n",
       "      <td>0.041166</td>\n",
       "      <td>0.970069</td>\n",
       "      <td>00:00</td>\n",
       "    </tr>\n",
       "    <tr>\n",
       "      <td>1</td>\n",
       "      <td>0.039743</td>\n",
       "      <td>0.034830</td>\n",
       "      <td>0.975466</td>\n",
       "      <td>00:00</td>\n",
       "    </tr>\n",
       "    <tr>\n",
       "      <td>2</td>\n",
       "      <td>0.032095</td>\n",
       "      <td>0.032211</td>\n",
       "      <td>0.973503</td>\n",
       "      <td>00:00</td>\n",
       "    </tr>\n",
       "    <tr>\n",
       "      <td>3</td>\n",
       "      <td>0.027673</td>\n",
       "      <td>0.029561</td>\n",
       "      <td>0.976938</td>\n",
       "      <td>00:00</td>\n",
       "    </tr>\n",
       "    <tr>\n",
       "      <td>4</td>\n",
       "      <td>0.025561</td>\n",
       "      <td>0.028081</td>\n",
       "      <td>0.978901</td>\n",
       "      <td>00:00</td>\n",
       "    </tr>\n",
       "    <tr>\n",
       "      <td>5</td>\n",
       "      <td>0.023886</td>\n",
       "      <td>0.027054</td>\n",
       "      <td>0.978901</td>\n",
       "      <td>00:00</td>\n",
       "    </tr>\n",
       "    <tr>\n",
       "      <td>6</td>\n",
       "      <td>0.022508</td>\n",
       "      <td>0.026187</td>\n",
       "      <td>0.978901</td>\n",
       "      <td>00:00</td>\n",
       "    </tr>\n",
       "    <tr>\n",
       "      <td>7</td>\n",
       "      <td>0.021424</td>\n",
       "      <td>0.025560</td>\n",
       "      <td>0.978901</td>\n",
       "      <td>00:00</td>\n",
       "    </tr>\n",
       "    <tr>\n",
       "      <td>8</td>\n",
       "      <td>0.020987</td>\n",
       "      <td>0.025173</td>\n",
       "      <td>0.979882</td>\n",
       "      <td>00:00</td>\n",
       "    </tr>\n",
       "    <tr>\n",
       "      <td>9</td>\n",
       "      <td>0.020105</td>\n",
       "      <td>0.024519</td>\n",
       "      <td>0.979882</td>\n",
       "      <td>00:00</td>\n",
       "    </tr>\n",
       "  </tbody>\n",
       "</table>"
      ]
     },
     "metadata": {},
     "output_type": "display_data"
    }
   ],
   "execution_count": 108
  },
  {
   "metadata": {
    "ExecuteTime": {
     "end_time": "2024-09-19T05:37:53.837776Z",
     "start_time": "2024-09-19T05:37:53.752534Z"
    }
   },
   "cell_type": "code",
   "source": [
    "w1 = init_params((28*28, 30))\n",
    "b1 = init_params(30)\n",
    "w2 = init_params((30, 1))\n",
    "b2 = init_params(1)\n",
    "\n",
    "def simple_net(xb):\n",
    "    res = xb @ w1 + b1\n",
    "    res = res.max(tensor(0.0))\n",
    "    res = res@w2 + b2\n",
    "    return res\n",
    "\n",
    "plot_function(F.relu)"
   ],
   "id": "22bb8cee7ccb6ed4",
   "outputs": [
    {
     "data": {
      "text/plain": [
       "<Figure size 640x480 with 1 Axes>"
      ],
      "image/png": "[encoded data removed]"
     },
     "metadata": {},
     "output_type": "display_data"
    }
   ],
   "execution_count": 109
  },
  {
   "metadata": {
    "ExecuteTime": {
     "end_time": "2024-09-19T05:42:57.653839Z",
     "start_time": "2024-09-19T05:42:57.641122Z"
    }
   },
   "cell_type": "code",
   "source": [
    "simple_net = nn.Sequential(\n",
    "    nn.Linear(28*28, 30),\n",
    "    nn.ReLU(),\n",
    "    nn.Linear(30, 1),\n",
    ")\n",
    "simple_net"
   ],
   "id": "9ac821a9aca7bcdd",
   "outputs": [
    {
     "data": {
      "text/plain": [
       "Sequential(\n",
       "  (0): Linear(in_features=784, out_features=30, bias=True)\n",
       "  (1): ReLU()\n",
       "  (2): Linear(in_features=30, out_features=1, bias=True)\n",
       ")"
      ]
     },
     "execution_count": 110,
     "metadata": {},
     "output_type": "execute_result"
    }
   ],
   "execution_count": 110
  },
  {
   "metadata": {
    "ExecuteTime": {
     "end_time": "2024-09-19T05:45:56.471276Z",
     "start_time": "2024-09-19T05:45:52.637153Z"
    }
   },
   "cell_type": "code",
   "source": [
    "learn = Learner(dls, simple_net, opt_func=SGD, loss_func=mnist_loss, metrics=batch_accuracy)\n",
    "learn.fit(40, 0.1)"
   ],
   "id": "3dca5041fee4c7fe",
   "outputs": [
    {
     "data": {
      "text/plain": [
       "<IPython.core.display.HTML object>"
      ],
      "text/html": [
       "\n",
       "<style>\n",
       "    /* Turns off some styling */\n",
       "    progress {\n",
       "        /* gets rid of default border in Firefox and Opera. */\n",
       "        border: none;\n",
       "        /* Needs to be in here for Safari polyfill so background images work as expected. */\n",
       "        background-size: auto;\n",
       "    }\n",
       "    progress:not([value]), progress:not([value])::-webkit-progress-bar {\n",
       "        background: repeating-linear-gradient(45deg, #7e7e7e, #7e7e7e 10px, #5c5c5c 10px, #5c5c5c 20px);\n",
       "    }\n",
       "    .progress-bar-interrupted, .progress-bar-interrupted::-webkit-progress-bar {\n",
       "        background: #F44336;\n",
       "    }\n",
       "</style>\n"
      ]
     },
     "metadata": {},
     "output_type": "display_data"
    },
    {
     "data": {
      "text/plain": [
       "<IPython.core.display.HTML object>"
      ],
      "text/html": [
       "<table border=\"1\" class=\"dataframe\">\n",
       "  <thead>\n",
       "    <tr style=\"text-align: left;\">\n",
       "      <th>epoch</th>\n",
       "      <th>train_loss</th>\n",
       "      <th>valid_loss</th>\n",
       "      <th>batch_accuracy</th>\n",
       "      <th>time</th>\n",
       "    </tr>\n",
       "  </thead>\n",
       "  <tbody>\n",
       "    <tr>\n",
       "      <td>0</td>\n",
       "      <td>0.229313</td>\n",
       "      <td>0.092121</td>\n",
       "      <td>0.965162</td>\n",
       "      <td>00:00</td>\n",
       "    </tr>\n",
       "    <tr>\n",
       "      <td>1</td>\n",
       "      <td>0.109266</td>\n",
       "      <td>0.054888</td>\n",
       "      <td>0.968597</td>\n",
       "      <td>00:00</td>\n",
       "    </tr>\n",
       "    <tr>\n",
       "      <td>2</td>\n",
       "      <td>0.066778</td>\n",
       "      <td>0.045352</td>\n",
       "      <td>0.969087</td>\n",
       "      <td>00:00</td>\n",
       "    </tr>\n",
       "    <tr>\n",
       "      <td>3</td>\n",
       "      <td>0.048719</td>\n",
       "      <td>0.040342</td>\n",
       "      <td>0.970559</td>\n",
       "      <td>00:00</td>\n",
       "    </tr>\n",
       "    <tr>\n",
       "      <td>4</td>\n",
       "      <td>0.038858</td>\n",
       "      <td>0.037444</td>\n",
       "      <td>0.971050</td>\n",
       "      <td>00:00</td>\n",
       "    </tr>\n",
       "    <tr>\n",
       "      <td>5</td>\n",
       "      <td>0.033697</td>\n",
       "      <td>0.034932</td>\n",
       "      <td>0.972522</td>\n",
       "      <td>00:00</td>\n",
       "    </tr>\n",
       "    <tr>\n",
       "      <td>6</td>\n",
       "      <td>0.030956</td>\n",
       "      <td>0.033509</td>\n",
       "      <td>0.973994</td>\n",
       "      <td>00:00</td>\n",
       "    </tr>\n",
       "    <tr>\n",
       "      <td>7</td>\n",
       "      <td>0.028615</td>\n",
       "      <td>0.032406</td>\n",
       "      <td>0.974485</td>\n",
       "      <td>00:00</td>\n",
       "    </tr>\n",
       "    <tr>\n",
       "      <td>8</td>\n",
       "      <td>0.026712</td>\n",
       "      <td>0.030877</td>\n",
       "      <td>0.975466</td>\n",
       "      <td>00:00</td>\n",
       "    </tr>\n",
       "    <tr>\n",
       "      <td>9</td>\n",
       "      <td>0.025217</td>\n",
       "      <td>0.029944</td>\n",
       "      <td>0.976448</td>\n",
       "      <td>00:00</td>\n",
       "    </tr>\n",
       "    <tr>\n",
       "      <td>10</td>\n",
       "      <td>0.024528</td>\n",
       "      <td>0.029338</td>\n",
       "      <td>0.976938</td>\n",
       "      <td>00:00</td>\n",
       "    </tr>\n",
       "    <tr>\n",
       "      <td>11</td>\n",
       "      <td>0.023282</td>\n",
       "      <td>0.028679</td>\n",
       "      <td>0.976448</td>\n",
       "      <td>00:00</td>\n",
       "    </tr>\n",
       "    <tr>\n",
       "      <td>12</td>\n",
       "      <td>0.022866</td>\n",
       "      <td>0.027822</td>\n",
       "      <td>0.977429</td>\n",
       "      <td>00:00</td>\n",
       "    </tr>\n",
       "    <tr>\n",
       "      <td>13</td>\n",
       "      <td>0.022138</td>\n",
       "      <td>0.027224</td>\n",
       "      <td>0.977920</td>\n",
       "      <td>00:00</td>\n",
       "    </tr>\n",
       "    <tr>\n",
       "      <td>14</td>\n",
       "      <td>0.021465</td>\n",
       "      <td>0.026708</td>\n",
       "      <td>0.978901</td>\n",
       "      <td>00:00</td>\n",
       "    </tr>\n",
       "    <tr>\n",
       "      <td>15</td>\n",
       "      <td>0.021452</td>\n",
       "      <td>0.026426</td>\n",
       "      <td>0.977920</td>\n",
       "      <td>00:00</td>\n",
       "    </tr>\n",
       "    <tr>\n",
       "      <td>16</td>\n",
       "      <td>0.020415</td>\n",
       "      <td>0.025936</td>\n",
       "      <td>0.978901</td>\n",
       "      <td>00:00</td>\n",
       "    </tr>\n",
       "    <tr>\n",
       "      <td>17</td>\n",
       "      <td>0.020016</td>\n",
       "      <td>0.025640</td>\n",
       "      <td>0.978410</td>\n",
       "      <td>00:00</td>\n",
       "    </tr>\n",
       "    <tr>\n",
       "      <td>18</td>\n",
       "      <td>0.019563</td>\n",
       "      <td>0.025030</td>\n",
       "      <td>0.979392</td>\n",
       "      <td>00:00</td>\n",
       "    </tr>\n",
       "    <tr>\n",
       "      <td>19</td>\n",
       "      <td>0.019546</td>\n",
       "      <td>0.024739</td>\n",
       "      <td>0.978901</td>\n",
       "      <td>00:00</td>\n",
       "    </tr>\n",
       "    <tr>\n",
       "      <td>20</td>\n",
       "      <td>0.019114</td>\n",
       "      <td>0.024507</td>\n",
       "      <td>0.978410</td>\n",
       "      <td>00:00</td>\n",
       "    </tr>\n",
       "    <tr>\n",
       "      <td>21</td>\n",
       "      <td>0.018451</td>\n",
       "      <td>0.024004</td>\n",
       "      <td>0.979882</td>\n",
       "      <td>00:00</td>\n",
       "    </tr>\n",
       "    <tr>\n",
       "      <td>22</td>\n",
       "      <td>0.018629</td>\n",
       "      <td>0.023911</td>\n",
       "      <td>0.978901</td>\n",
       "      <td>00:00</td>\n",
       "    </tr>\n",
       "    <tr>\n",
       "      <td>23</td>\n",
       "      <td>0.018244</td>\n",
       "      <td>0.023538</td>\n",
       "      <td>0.978901</td>\n",
       "      <td>00:00</td>\n",
       "    </tr>\n",
       "    <tr>\n",
       "      <td>24</td>\n",
       "      <td>0.017767</td>\n",
       "      <td>0.023432</td>\n",
       "      <td>0.978410</td>\n",
       "      <td>00:00</td>\n",
       "    </tr>\n",
       "    <tr>\n",
       "      <td>25</td>\n",
       "      <td>0.017674</td>\n",
       "      <td>0.023107</td>\n",
       "      <td>0.978410</td>\n",
       "      <td>00:00</td>\n",
       "    </tr>\n",
       "    <tr>\n",
       "      <td>26</td>\n",
       "      <td>0.017228</td>\n",
       "      <td>0.022887</td>\n",
       "      <td>0.978901</td>\n",
       "      <td>00:00</td>\n",
       "    </tr>\n",
       "    <tr>\n",
       "      <td>27</td>\n",
       "      <td>0.017373</td>\n",
       "      <td>0.022696</td>\n",
       "      <td>0.980373</td>\n",
       "      <td>00:00</td>\n",
       "    </tr>\n",
       "    <tr>\n",
       "      <td>28</td>\n",
       "      <td>0.017151</td>\n",
       "      <td>0.022546</td>\n",
       "      <td>0.981354</td>\n",
       "      <td>00:00</td>\n",
       "    </tr>\n",
       "    <tr>\n",
       "      <td>29</td>\n",
       "      <td>0.016625</td>\n",
       "      <td>0.022248</td>\n",
       "      <td>0.981354</td>\n",
       "      <td>00:00</td>\n",
       "    </tr>\n",
       "    <tr>\n",
       "      <td>30</td>\n",
       "      <td>0.016423</td>\n",
       "      <td>0.022122</td>\n",
       "      <td>0.980864</td>\n",
       "      <td>00:00</td>\n",
       "    </tr>\n",
       "    <tr>\n",
       "      <td>31</td>\n",
       "      <td>0.016491</td>\n",
       "      <td>0.021770</td>\n",
       "      <td>0.981845</td>\n",
       "      <td>00:00</td>\n",
       "    </tr>\n",
       "    <tr>\n",
       "      <td>32</td>\n",
       "      <td>0.016626</td>\n",
       "      <td>0.021606</td>\n",
       "      <td>0.981354</td>\n",
       "      <td>00:00</td>\n",
       "    </tr>\n",
       "    <tr>\n",
       "      <td>33</td>\n",
       "      <td>0.016072</td>\n",
       "      <td>0.021256</td>\n",
       "      <td>0.981354</td>\n",
       "      <td>00:00</td>\n",
       "    </tr>\n",
       "    <tr>\n",
       "      <td>34</td>\n",
       "      <td>0.015761</td>\n",
       "      <td>0.021113</td>\n",
       "      <td>0.981354</td>\n",
       "      <td>00:00</td>\n",
       "    </tr>\n",
       "    <tr>\n",
       "      <td>35</td>\n",
       "      <td>0.016301</td>\n",
       "      <td>0.021271</td>\n",
       "      <td>0.981354</td>\n",
       "      <td>00:00</td>\n",
       "    </tr>\n",
       "    <tr>\n",
       "      <td>36</td>\n",
       "      <td>0.016214</td>\n",
       "      <td>0.020955</td>\n",
       "      <td>0.981354</td>\n",
       "      <td>00:00</td>\n",
       "    </tr>\n",
       "    <tr>\n",
       "      <td>37</td>\n",
       "      <td>0.016043</td>\n",
       "      <td>0.020735</td>\n",
       "      <td>0.981354</td>\n",
       "      <td>00:00</td>\n",
       "    </tr>\n",
       "    <tr>\n",
       "      <td>38</td>\n",
       "      <td>0.015393</td>\n",
       "      <td>0.020651</td>\n",
       "      <td>0.981354</td>\n",
       "      <td>00:00</td>\n",
       "    </tr>\n",
       "    <tr>\n",
       "      <td>39</td>\n",
       "      <td>0.015368</td>\n",
       "      <td>0.020523</td>\n",
       "      <td>0.982336</td>\n",
       "      <td>00:00</td>\n",
       "    </tr>\n",
       "  </tbody>\n",
       "</table>"
      ]
     },
     "metadata": {},
     "output_type": "display_data"
    }
   ],
   "execution_count": 111
  },
  {
   "metadata": {
    "ExecuteTime": {
     "end_time": "2024-09-19T05:46:24.821334Z",
     "start_time": "2024-09-19T05:46:24.752048Z"
    }
   },
   "cell_type": "code",
   "source": "plt.plot(L(learn.recorder.values).itemgot(2))",
   "id": "52c22bdcb3157857",
   "outputs": [
    {
     "data": {
      "text/plain": [
       "[<matplotlib.lines.Line2D at 0x1d6b53cad50>]"
      ]
     },
     "execution_count": 112,
     "metadata": {},
     "output_type": "execute_result"
    },
    {
     "data": {
      "text/plain": [
       "<Figure size 640x480 with 1 Axes>"
      ],
      "image/png": "[encoded data removed]"
     },
     "metadata": {},
     "output_type": "display_data"
    }
   ],
   "execution_count": 112
  },
  {
   "metadata": {
    "ExecuteTime": {
     "end_time": "2024-09-19T05:47:59.219878Z",
     "start_time": "2024-09-19T05:47:59.207617Z"
    }
   },
   "cell_type": "code",
   "source": "learn.recorder.values[-1][-1]",
   "id": "2c3f18d19f73df0",
   "outputs": [
    {
     "data": {
      "text/plain": [
       "0.98233562707901"
      ]
     },
     "execution_count": 116,
     "metadata": {},
     "output_type": "execute_result"
    }
   ],
   "execution_count": 116
  },
  {
   "metadata": {
    "ExecuteTime": {
     "end_time": "2024-09-19T05:51:58.252604Z",
     "start_time": "2024-09-19T05:51:09.719658Z"
    }
   },
   "cell_type": "code",
   "source": [
    "dls = ImageDataLoaders.from_folder(path)\n",
    "learn = vision_learner(dls, resnet18, pretrained=False, loss_func=F.cross_entropy, metrics=accuracy)\n",
    "learn.fit_one_cycle(1, 0.1)"
   ],
   "id": "1e7e31f193febc61",
   "outputs": [
    {
     "name": "stderr",
     "output_type": "stream",
     "text": [
      "C:\\Users\\Admin\\anaconda3\\envs\\hust\\Lib\\site-packages\\fastai\\vision\\learner.py:303: UserWarning: `cnn_learner` has been renamed to `vision_learner` -- please update your code\n",
      "  warn(\"`cnn_learner` has been renamed to `vision_learner` -- please update your code\")\n"
     ]
    },
    {
     "data": {
      "text/plain": [
       "<IPython.core.display.HTML object>"
      ],
      "text/html": [
       "\n",
       "<style>\n",
       "    /* Turns off some styling */\n",
       "    progress {\n",
       "        /* gets rid of default border in Firefox and Opera. */\n",
       "        border: none;\n",
       "        /* Needs to be in here for Safari polyfill so background images work as expected. */\n",
       "        background-size: auto;\n",
       "    }\n",
       "    progress:not([value]), progress:not([value])::-webkit-progress-bar {\n",
       "        background: repeating-linear-gradient(45deg, #7e7e7e, #7e7e7e 10px, #5c5c5c 10px, #5c5c5c 20px);\n",
       "    }\n",
       "    .progress-bar-interrupted, .progress-bar-interrupted::-webkit-progress-bar {\n",
       "        background: #F44336;\n",
       "    }\n",
       "</style>\n"
      ]
     },
     "metadata": {},
     "output_type": "display_data"
    },
    {
     "data": {
      "text/plain": [
       "<IPython.core.display.HTML object>"
      ],
      "text/html": [
       "<table border=\"1\" class=\"dataframe\">\n",
       "  <thead>\n",
       "    <tr style=\"text-align: left;\">\n",
       "      <th>epoch</th>\n",
       "      <th>train_loss</th>\n",
       "      <th>valid_loss</th>\n",
       "      <th>accuracy</th>\n",
       "      <th>time</th>\n",
       "    </tr>\n",
       "  </thead>\n",
       "  <tbody>\n",
       "    <tr>\n",
       "      <td>0</td>\n",
       "      <td>0.183187</td>\n",
       "      <td>0.013921</td>\n",
       "      <td>0.996075</td>\n",
       "      <td>00:47</td>\n",
       "    </tr>\n",
       "  </tbody>\n",
       "</table>"
      ]
     },
     "metadata": {},
     "output_type": "display_data"
    }
   ],
   "execution_count": 117
  }
 ],
 "metadata": {
  "kernelspec": {
   "display_name": "Python 3",
   "language": "python",
   "name": "python3"
  },
  "language_info": {
   "codemirror_mode": {
    "name": "ipython",
    "version": 2
   },
   "file_extension": ".py",
   "mimetype": "text/x-python",
   "name": "python",
   "nbconvert_exporter": "python",
   "pygments_lexer": "ipython2",
   "version": "2.7.6"
  }
 },
 "nbformat": 4,
 "nbformat_minor": 5
}
