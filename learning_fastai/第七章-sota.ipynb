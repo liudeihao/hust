{
 "cells": [
  {
   "metadata": {
    "ExecuteTime": {
     "end_time": "2024-09-19T14:32:57.207478Z",
     "start_time": "2024-09-19T14:32:57.204021Z"
    }
   },
   "cell_type": "code",
   "source": [
    "import os\n",
    "\n",
    "os.environ['http_proxy'] = 'http://127.0.0.1:26001'\n",
    "os.environ['https_proxy'] = 'http://127.0.0.1:26001'"
   ],
   "id": "815f2eb2267078f6",
   "outputs": [],
   "execution_count": 2
  },
  {
   "cell_type": "code",
   "id": "initial_id",
   "metadata": {
    "collapsed": true,
    "ExecuteTime": {
     "end_time": "2024-09-19T15:18:14.413621Z",
     "start_time": "2024-09-19T14:32:58.540422Z"
    }
   },
   "source": [
    "from fastai.vision.all import *\n",
    "\n",
    "path = untar_data(URLs.IMAGENETTE)"
   ],
   "outputs": [
    {
     "name": "stdout",
     "output_type": "stream",
     "text": [
      "Downloading a new version of this dataset...\n"
     ]
    },
    {
     "data": {
      "text/plain": [
       "<IPython.core.display.HTML object>"
      ],
      "text/html": [
       "\n",
       "<style>\n",
       "    /* Turns off some styling */\n",
       "    progress {\n",
       "        /* gets rid of default border in Firefox and Opera. */\n",
       "        border: none;\n",
       "        /* Needs to be in here for Safari polyfill so background images work as expected. */\n",
       "        background-size: auto;\n",
       "    }\n",
       "    progress:not([value]), progress:not([value])::-webkit-progress-bar {\n",
       "        background: repeating-linear-gradient(45deg, #7e7e7e, #7e7e7e 10px, #5c5c5c 10px, #5c5c5c 20px);\n",
       "    }\n",
       "    .progress-bar-interrupted, .progress-bar-interrupted::-webkit-progress-bar {\n",
       "        background: #F44336;\n",
       "    }\n",
       "</style>\n"
      ]
     },
     "metadata": {},
     "output_type": "display_data"
    },
    {
     "data": {
      "text/plain": [
       "<IPython.core.display.HTML object>"
      ],
      "text/html": [
       "\n",
       "    <div>\n",
       "      <progress value='1557168128' class='' max='1557161267' style='width:300px; height:20px; vertical-align: middle;'></progress>\n",
       "      100.00% [1557168128/1557161267 45:00&lt;00:00]\n",
       "    </div>\n",
       "    "
      ]
     },
     "metadata": {},
     "output_type": "display_data"
    }
   ],
   "execution_count": 3
  },
  {
   "metadata": {},
   "cell_type": "code",
   "outputs": [],
   "execution_count": null,
   "source": [
    "dblock = DataBlock(\n",
    "    blocks=[ImageBlock(), CategoryBlock()],\n",
    "    get_items=get_image_files,\n",
    "    get_y=parent_label,\n",
    "    item_tfms=[Resize(460)],\n",
    "    batch_tfms=[aug_transforms(size=224, min_scale=0.75)]\n",
    ")\n",
    "dls = dblock.dataloaders(path, bs=64)"
   ],
   "id": "1fb508dd6b463f9a"
  },
  {
   "metadata": {},
   "cell_type": "code",
   "outputs": [],
   "execution_count": null,
   "source": [
    "model = xresnet50()\n",
    "learn = Learner(dls, model, loss_func=CrossEntropyLossFlat(), metrics=accuracy)\n",
    "learn.fit_one_cycle(5, 3e-3)"
   ],
   "id": "dc32a6933d4a0de5"
  },
  {
   "metadata": {
    "ExecuteTime": {
     "end_time": "2024-09-19T15:18:14.449662Z",
     "start_time": "2024-09-19T15:18:14.418138Z"
    }
   },
   "cell_type": "code",
   "source": [
    "x, y = dls.one_batch()\n",
    "x.shape, y.shape"
   ],
   "id": "35ca01a7a6c8761f",
   "outputs": [
    {
     "ename": "NameError",
     "evalue": "name 'dls' is not defined",
     "output_type": "error",
     "traceback": [
      "\u001B[1;31m---------------------------------------------------------------------------\u001B[0m",
      "\u001B[1;31mNameError\u001B[0m                                 Traceback (most recent call last)",
      "Cell \u001B[1;32mIn[4], line 1\u001B[0m\n\u001B[1;32m----> 1\u001B[0m x, y \u001B[38;5;241m=\u001B[39m \u001B[43mdls\u001B[49m\u001B[38;5;241m.\u001B[39mone_batch()\n\u001B[0;32m      2\u001B[0m x\u001B[38;5;241m.\u001B[39mshape, y\u001B[38;5;241m.\u001B[39mshape\n",
      "\u001B[1;31mNameError\u001B[0m: name 'dls' is not defined"
     ]
    }
   ],
   "execution_count": 4
  },
  {
   "metadata": {},
   "cell_type": "code",
   "outputs": [],
   "execution_count": null,
   "source": "x.mean(dim=[0, 2, 3]), x.std(dim=[0, 2, 3])",
   "id": "71e89d45bd1b7af9"
  },
  {
   "metadata": {},
   "cell_type": "code",
   "outputs": [],
   "execution_count": null,
   "source": [
    "def get_dls(bs, size):\n",
    "    dblock = DataBlock(\n",
    "        blocks=[ImageBlock, CategoryBlock],\n",
    "        get_items=get_image_files,\n",
    "        get_y=parent_label,\n",
    "        item_tfms=[Resize(460)],\n",
    "        batch_tfms=[*aug_transforms(size=224, min_scale=0.75),\n",
    "                    Normalize.from_stats(*imagenet_stats)]\n",
    "    )\n",
    "    return dblock.dataloaders(path,bs=bs)\n",
    "\n",
    "dls = get_dls(64, 224)\n",
    "x, y = dls.one_batch()\n",
    "x.mean(dim=[0, 2, 3]), x.std(dim=[0, 2, 3])"
   ],
   "id": "4f11893616de20ce"
  },
  {
   "metadata": {},
   "cell_type": "code",
   "outputs": [],
   "execution_count": null,
   "source": [
    "model = xresnet50()\n",
    "learn = Learner(dls, model, loss_func=CrossEntropyLossFlat(), metrics=accuracy)\n",
    "learn.fit_one_cycle(5, 3e-3)"
   ],
   "id": "c02a34d48d2a8d94"
  },
  {
   "metadata": {},
   "cell_type": "code",
   "outputs": [],
   "execution_count": null,
   "source": [
    "dls = get_dls(128,128)\n",
    "learn = Learner(dls, xresnet50(), loss_func=CrossEntropyLossFlat(), metrics=accuracy)\n",
    "learn.fit_one_cycle(4, 3e-3)"
   ],
   "id": "fefbe8f0da3db69c"
  },
  {
   "metadata": {},
   "cell_type": "code",
   "outputs": [],
   "execution_count": null,
   "source": [
    "learn.dls = get_dls(64,224)\n",
    "learn.fine_tune(5, 1e-3)"
   ],
   "id": "b78ad72cab510f79"
  },
  {
   "metadata": {},
   "cell_type": "code",
   "outputs": [],
   "execution_count": null,
   "source": "",
   "id": "a5ab147f3de4907d"
  }
 ],
 "metadata": {
  "kernelspec": {
   "display_name": "Python 3",
   "language": "python",
   "name": "python3"
  },
  "language_info": {
   "codemirror_mode": {
    "name": "ipython",
    "version": 2
   },
   "file_extension": ".py",
   "mimetype": "text/x-python",
   "name": "python",
   "nbconvert_exporter": "python",
   "pygments_lexer": "ipython2",
   "version": "2.7.6"
  }
 },
 "nbformat": 4,
 "nbformat_minor": 5
}
